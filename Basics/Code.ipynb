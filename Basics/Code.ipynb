{
 "cells": [
  {
   "cell_type": "code",
   "execution_count": 1,
   "metadata": {},
   "outputs": [],
   "source": [
    "from math import exp\n",
    "import numpy as np\n",
    "import pandas as pd\n",
    "import matplotlib.pyplot as plt\n",
    "%matplotlib inline"
   ]
  },
  {
   "cell_type": "code",
   "execution_count": 2,
   "metadata": {},
   "outputs": [],
   "source": [
    "from functools import *"
   ]
  },
  {
   "cell_type": "markdown",
   "metadata": {},
   "source": [
    "# Logistic Regression"
   ]
  },
  {
   "cell_type": "code",
   "execution_count": 3,
   "metadata": {},
   "outputs": [],
   "source": [
    "def sigma(z):\n",
    "    return(1 / (1 + np.exp(-z)))\n",
    "def tanh(z):\n",
    "    return((np.exp(z)-np.exp(-z))/(np.exp(z)+np.exp(-z)))\n",
    "def relu(z):\n",
    "    return(max(0,z))\n",
    "def leaky_relu(z):\n",
    "    return(max(0.01*z,z))"
   ]
  },
  {
   "cell_type": "markdown",
   "metadata": {},
   "source": [
    "**For one sample tuple**"
   ]
  },
  {
   "cell_type": "code",
   "execution_count": 4,
   "metadata": {},
   "outputs": [],
   "source": [
    "def LogRegCompute(x_1, x_2, w_1, w_2, b, alpha,y):\n",
    "    def compute_da(y,a):\n",
    "        da = -(y/a)+(1-y)/(1-a)\n",
    "        return da\n",
    "    def compute_dz(da,a):\n",
    "        dz = da*a*(1-a)\n",
    "        return dz\n",
    "    def compute_d(dz, x=1):\n",
    "        d = dz * x\n",
    "        return d\n",
    "    \n",
    "    z = w_1*x_1 + w_2*x_2 + b\n",
    "    a = sigma(z)\n",
    "    \n",
    "    da = compute_dz(y,a)\n",
    "    dz = compute_dz(da,a)\n",
    "    \n",
    "    dw1 = compute_d(dz, x_1)\n",
    "    dw2 = compute_d(dz, x_2)\n",
    "    db = compute_d(dz)\n",
    "    \n",
    "    w_1 = w_1 + alpha*dw1\n",
    "    w_2 = w_2 + alpha*dw2\n",
    "    b = b + alpha*db\n",
    "    return(w_1,w_2,b)"
   ]
  },
  {
   "cell_type": "code",
   "execution_count": 5,
   "metadata": {
    "scrolled": true
   },
   "outputs": [
    {
     "data": {
      "text/plain": [
       "(0.0007731250458590582, 0.0015462500917181165, 1.0007731250458591)"
      ]
     },
     "execution_count": 5,
     "metadata": {},
     "output_type": "execute_result"
    }
   ],
   "source": [
    "LogRegCompute(1,2,0,0,1,0.01,2)"
   ]
  },
  {
   "cell_type": "markdown",
   "metadata": {},
   "source": [
    "**For m samples, single step**"
   ]
  },
  {
   "cell_type": "code",
   "execution_count": 6,
   "metadata": {
    "scrolled": true
   },
   "outputs": [],
   "source": [
    "m = 1000\n",
    "J_array, b = np.zeros((m,1)), 0\n",
    "alpha = 0.01\n",
    "np.random.seed(197)\n",
    "\n",
    "\n",
    "w = np.zeros((1,2))\n",
    "x_1 = np.random.randint(10, size = m).reshape(-1,m)\n",
    "x_2 = np.random.randint(low = 25, high = 50, size = m).reshape(-1,m)\n",
    "x = np.array([x_1,x_2]).reshape(2,m)\n",
    "\n",
    "y = np.where(((x[1]<37.5) & (x[0]>5)), 1, 0)\n",
    "\n",
    "for i in range(1000):\n",
    "    z = np.zeros(m)\n",
    "    a = np.zeros(m)\n",
    "\n",
    "    z = np.dot(w,x) + b\n",
    "    a = sigma(z)\n",
    "    J = (-(y * np.log(a) + (1-y)* np.log(1-a))).mean()\n",
    "    dz = a - y\n",
    "    dw = (np.dot(x,dz.T).reshape(-1,2))/m\n",
    "    db = dz.mean()\n",
    "    w = w - alpha * dw\n",
    "    b = b - alpha * db\n",
    "    J_array[i] = J "
   ]
  },
  {
   "cell_type": "code",
   "execution_count": 7,
   "metadata": {},
   "outputs": [
    {
     "data": {
      "text/plain": [
       "Text(0.5, 1.0, 'Cost function over 1000 iterations')"
      ]
     },
     "execution_count": 7,
     "metadata": {},
     "output_type": "execute_result"
    },
    {
     "data": {
      "image/png": "[encoded data removed]",
      "text/plain": [
       "<Figure size 432x288 with 1 Axes>"
      ]
     },
     "metadata": {
      "needs_background": "light"
     },
     "output_type": "display_data"
    }
   ],
   "source": [
    "plt.plot(J_array)\n",
    "plt.title(\"Cost function over 1000 iterations\")"
   ]
  },
  {
   "cell_type": "markdown",
   "metadata": {},
   "source": [
    "### Accuracy"
   ]
  },
  {
   "cell_type": "code",
   "execution_count": 8,
   "metadata": {},
   "outputs": [
    {
     "name": "stdout",
     "output_type": "stream",
     "text": [
      "Accuracy = 93.5%\n"
     ]
    }
   ],
   "source": [
    "z = np.dot(w,x) + b\n",
    "a = sigma(z)\n",
    "res = np.mean(np.where(a>0.5,1,0)==y)\n",
    "print(f'Accuracy = {res*100}%')"
   ]
  },
  {
   "cell_type": "markdown",
   "metadata": {},
   "source": [
    "# Neural Network "
   ]
  },
  {
   "cell_type": "markdown",
   "metadata": {},
   "source": [
    "#### Init network"
   ]
  },
  {
   "cell_type": "code",
   "execution_count": 9,
   "metadata": {},
   "outputs": [],
   "source": [
    "def init_network():\n",
    "    hidden_layer_nodes = []\n",
    "    if(input(\"Load default network layer config[2 input, 1 hidden layer(4 nodes), 1 output]: (y/n): \").lower()!='y'):\n",
    "        input_layer_node = int(input(\"Enter number of nodes in input layer 0: \"))\n",
    "        h_layer = int(input(\"Enter number of hidden layers in network: \"))\n",
    "        n_layer = h_layer + 1\n",
    "        for i in range(1,n_layer):\n",
    "            hidden_layer_nodes.append(int(input(f\"Enter no. of nodes in hidden layer {i} (layer {i})\")))\n",
    "        output_layer_node = int(input(f\"Enter number of nodes in output layer (layer {n_layer}): \"))\n",
    "    else:\n",
    "        n_layer = 2\n",
    "        input_layer_node = 2\n",
    "        output_layer_node = 1\n",
    "        hidden_layer_nodes = [4]  \n",
    "    n_per_layer = [input_layer_node] + hidden_layer_nodes + [output_layer_node] \n",
    "    hidden_layers = {}\n",
    "    for i in range(n_layer+1):\n",
    "        hidden_layers[f'Layer {i}'] = {'a':np.zeros(shape=(n_per_layer[i],1))}\n",
    "        if(i != 0):\n",
    "            hidden_layers[f'Layer {i}']['w'] = np.random.randn(n_per_layer[i],n_per_layer[i-1]) * 0.01\n",
    "            hidden_layers[f'Layer {i}']['b'] = np.zeros(shape=(n_per_layer[i],1))\n",
    "    return(hidden_layers)"
   ]
  },
  {
   "cell_type": "markdown",
   "metadata": {},
   "source": [
    "#### Display net "
   ]
  },
  {
   "cell_type": "code",
   "execution_count": 10,
   "metadata": {},
   "outputs": [],
   "source": [
    "def display_net(net, status = \"original\"):\n",
    "    print(f'\\nStatus: {status}\\n')\n",
    "    for key,value in net.items():\n",
    "        print(f'{key}:')\n",
    "        for key,value in value.items():\n",
    "            print(f'{key}: \\n{value}')"
   ]
  },
  {
   "cell_type": "markdown",
   "metadata": {},
   "source": [
    "#### Forward prop"
   ]
  },
  {
   "cell_type": "code",
   "execution_count": 11,
   "metadata": {},
   "outputs": [],
   "source": [
    "def forward_prop():\n",
    "    n_layer = f'Layer {len(net)-1}'\n",
    "    for key in net:\n",
    "        if(key!='Layer 0'):\n",
    "            w = net[key]['w']\n",
    "            b = net[key]['b']\n",
    "            z = np.dot(w,a_prev) + b\n",
    "            if(key == n_layer):\n",
    "                a = sigma(z)\n",
    "            else:\n",
    "                a = np.tanh(z)\n",
    "            net[key]['a'] = a \n",
    "        a_prev = net[key]['a']"
   ]
  },
  {
   "cell_type": "markdown",
   "metadata": {},
   "source": [
    "#### Back prop"
   ]
  },
  {
   "cell_type": "code",
   "execution_count": 12,
   "metadata": {},
   "outputs": [],
   "source": [
    "def back_prop():\n",
    "    n_layer = f'Layer {len(net)-1}'\n",
    "    J = (-(y * np.log(net[n_layer]['a']) + (1-y)* np.log(1-net[n_layer]['a']))).mean()\n",
    "    _net = list(net.items()) \n",
    "    dz = []\n",
    "    for j in range(len(list(net.items()))-1,0,-1):\n",
    "        a_2 = _net[j][1]['a']        \n",
    "        a_1 = _net[j-1][1]['a']\n",
    "        if(j == int(n_layer[-1])):\n",
    "            _dz = a_2 - y\n",
    "        else:\n",
    "            _dz = np.dot(_net[j+1][1]['w'].T,dz[-1]) * (1 - np.power(a_2, 2))\n",
    "        dw = np.dot(_dz,a_1.T)/m\n",
    "        db = (_dz.sum(axis = 1, keepdims = True))/m\n",
    "        _net[j][1]['w'] = _net[j][1]['w'] - alpha * dw \n",
    "        _net[j][1]['b'] = _net[j][1]['b'] - alpha * db\n",
    "        dz.append(_dz)\n",
    "    return(J)"
   ]
  },
  {
   "cell_type": "markdown",
   "metadata": {},
   "source": [
    "#### Initialize"
   ]
  },
  {
   "cell_type": "code",
   "execution_count": 13,
   "metadata": {},
   "outputs": [],
   "source": [
    "m = 1000\n",
    "alpha = 0.01\n",
    "np.random.seed(197)\n",
    "\n",
    "x_1 = np.random.randint(10, size = m).reshape(-1,m)\n",
    "x_2 = np.random.randint(low = 25, high = 50, size = m).reshape(-1,m)\n",
    "x = np.array([x_1,x_2]).reshape(2,m)\n",
    "\n",
    "y = np.where(((x[1]<37.5) & (x[0]>5)), 1, 0).reshape(1,1000)"
   ]
  },
  {
   "cell_type": "markdown",
   "metadata": {},
   "source": [
    "#### Iteration"
   ]
  },
  {
   "cell_type": "code",
   "execution_count": 14,
   "metadata": {},
   "outputs": [
    {
     "name": "stdout",
     "output_type": "stream",
     "text": [
      "Load default network layer config[2 input, 1 hidden layer(4 nodes), 1 output]: (y/n): y\n",
      "Cost after 1000 iterations: 0.1872151099797428\n",
      "Cost after 2000 iterations: 0.1649907982769775\n",
      "Cost after 3000 iterations: 0.15618490260956155\n",
      "Cost after 4000 iterations: 0.151076368144305\n",
      "Cost after 5000 iterations: 0.1472561313349398\n",
      "Cost after 6000 iterations: 0.14414349971059373\n",
      "Cost after 7000 iterations: 0.14153616446634293\n",
      "Cost after 8000 iterations: 0.13932237180817206\n",
      "Cost after 9000 iterations: 0.13742261750440962\n",
      "Cost after 10000 iterations: 0.13577563930446232\n",
      "Complete!\n"
     ]
    }
   ],
   "source": [
    "net = init_network()\n",
    "net['Layer 0']['a'] = x\n",
    "J_array = []\n",
    "\n",
    "for i in range(10000):\n",
    "    forward_prop()\n",
    "    J = back_prop()\n",
    "    J_array.append(J)\n",
    "    if(len(J_array)%1000==0):\n",
    "        print(f'Cost after {len(J_array)} iterations: {J_array[-1]}')\n",
    "# display_net(net, \"Output\")\n",
    "print(\"Complete!\")"
   ]
  },
  {
   "cell_type": "code",
   "execution_count": 15,
   "metadata": {
    "scrolled": true
   },
   "outputs": [
    {
     "data": {
      "text/plain": [
       "Text(0.5, 1.0, 'Cost function over 10000 iterations')"
      ]
     },
     "execution_count": 15,
     "metadata": {},
     "output_type": "execute_result"
    },
    {
     "data": {
      "image/png": "[encoded data removed]",
      "text/plain": [
       "<Figure size 432x288 with 1 Axes>"
      ]
     },
     "metadata": {
      "needs_background": "light"
     },
     "output_type": "display_data"
    }
   ],
   "source": [
    "plt.plot(J_array)\n",
    "plt.title(\"Cost function over 10000 iterations\")"
   ]
  },
  {
   "cell_type": "markdown",
   "metadata": {},
   "source": [
    "### Accuracy"
   ]
  },
  {
   "cell_type": "code",
   "execution_count": 16,
   "metadata": {},
   "outputs": [
    {
     "name": "stdout",
     "output_type": "stream",
     "text": [
      "Accuracy = 85.8%\n"
     ]
    }
   ],
   "source": [
    "n_layer = f'Layer {len(net)-1}'\n",
    "for key,value in net.items():\n",
    "    if(key!='Layer 0'):\n",
    "        w = value['w']\n",
    "        a = value['a']\n",
    "        b = value['b']\n",
    "        if(key == n_layer):\n",
    "            z = np.dot(w,a_prev) + b\n",
    "            a = sigma(z)\n",
    "        else:\n",
    "            z = np.dot(w,a_prev) + b\n",
    "            a = np.vectorize(relu)(z)\n",
    "        value['z'] = z \n",
    "        value['a'] = a \n",
    "    a_prev = value['a']\n",
    "res = np.mean(np.where(net[n_layer]['a']>0.5,1,0)==y)\n",
    "print(f'Accuracy = {res*100}%')"
   ]
  },
  {
   "cell_type": "markdown",
   "metadata": {},
   "source": [
    "## Comparing against accuracy of sklearn's MLPClassifier "
   ]
  },
  {
   "cell_type": "code",
   "execution_count": 17,
   "metadata": {},
   "outputs": [],
   "source": [
    "from sklearn.neural_network import MLPClassifier"
   ]
  },
  {
   "cell_type": "code",
   "execution_count": 26,
   "metadata": {},
   "outputs": [],
   "source": [
    "clf = MLPClassifier(solver='lbfgs', alpha=0.01, hidden_layer_sizes=(4), random_state=197)"
   ]
  },
  {
   "cell_type": "code",
   "execution_count": 27,
   "metadata": {},
   "outputs": [],
   "source": [
    "x_temp = x.T\n",
    "y_temp = y.reshape(1000,)"
   ]
  },
  {
   "cell_type": "code",
   "execution_count": 28,
   "metadata": {},
   "outputs": [
    {
     "data": {
      "text/plain": [
       "MLPClassifier(alpha=0.01, hidden_layer_sizes=4, random_state=197,\n",
       "              solver='lbfgs')"
      ]
     },
     "execution_count": 28,
     "metadata": {},
     "output_type": "execute_result"
    }
   ],
   "source": [
    "clf.fit(x_temp, y_temp)"
   ]
  },
  {
   "cell_type": "code",
   "execution_count": 29,
   "metadata": {},
   "outputs": [
    {
     "name": "stdout",
     "output_type": "stream",
     "text": [
      "Accuracy = 94.1%\n"
     ]
    }
   ],
   "source": [
    "res = np.mean(clf.predict(x_temp)==y)\n",
    "print(f'Accuracy = {res*100}%')"
   ]
  }
 ],
 "metadata": {
  "kernelspec": {
   "display_name": "Python 3",
   "language": "python",
   "name": "python3"
  },
  "language_info": {
   "codemirror_mode": {
    "name": "ipython",
    "version": 3
   },
   "file_extension": ".py",
   "mimetype": "text/x-python",
   "name": "python",
   "nbconvert_exporter": "python",
   "pygments_lexer": "ipython3",
   "version": "3.8.6"
  }
 },
 "nbformat": 4,
 "nbformat_minor": 4
}
