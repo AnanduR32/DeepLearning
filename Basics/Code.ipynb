{
 "cells": [
  {
   "cell_type": "code",
   "execution_count": 17,
   "metadata": {},
   "outputs": [],
   "source": [
    "from math import exp\n",
    "import numpy as np"
   ]
  },
  {
   "cell_type": "markdown",
   "metadata": {},
   "source": [
    "# Logistic Regression"
   ]
  },
  {
   "cell_type": "markdown",
   "metadata": {},
   "source": [
    "**For one sample tuple**"
   ]
  },
  {
   "cell_type": "code",
   "execution_count": 130,
   "metadata": {},
   "outputs": [],
   "source": [
    "def sigma(val):\n",
    "    try:\n",
    "        res = (1/(1-exp(-val)))\n",
    "    except Exception as e:\n",
    "        res = 0\n",
    "    return res\n",
    "def calc_cost(y,a):\n",
    "    if(np.where(w_d==0, True, False).sum()==len(a)): \n",
    "        res = (-(y * np.log(a) + (1-y)* np.log(1-a))).mean()\n",
    "    else: \n",
    "        res = 9999999\n",
    "    return res\n",
    "\n",
    "def LogRegCompute(x_1, x_2, w_1, w_2, b, alpha,y):\n",
    "    def compute_da(y,a):\n",
    "        da = -(y/a)+(1-y)/(1-a)\n",
    "        return da\n",
    "    def compute_dz(da,a):\n",
    "        dz = da*a*(1-a)\n",
    "        return dz\n",
    "    def compute_d(dz, x=1):\n",
    "        d = dz * x\n",
    "        return d\n",
    "    \n",
    "    z = w_1*x_1 + w_2*x_2 + b\n",
    "    a = sigma(z)\n",
    "    \n",
    "    da = compute_dz(y,a)\n",
    "    dz = compute_dz(da,a)\n",
    "    \n",
    "    dw1 = compute_d(dz, x_1)\n",
    "    dw2 = compute_d(dz, x_2)\n",
    "    db = compute_d(dz)\n",
    "    \n",
    "    w_1 = w_1 + alpha*dw1\n",
    "    w_2 = w_2 + alpha*dw2\n",
    "    b = b + alpha*db\n",
    "    return(w_1,w_2,b)"
   ]
  },
  {
   "cell_type": "code",
   "execution_count": 131,
   "metadata": {
    "scrolled": true
   },
   "outputs": [
    {
     "data": {
      "text/plain": [
       "(0.016952797341429897, 0.033905594682859794, 1.0169527973414298)"
      ]
     },
     "execution_count": 131,
     "metadata": {},
     "output_type": "execute_result"
    }
   ],
   "source": [
    "LogRegCompute(1,2,0,0,1,0.01,2)"
   ]
  },
  {
   "cell_type": "markdown",
   "metadata": {},
   "source": [
    "**For m samples, single step**"
   ]
  },
  {
   "cell_type": "code",
   "execution_count": 132,
   "metadata": {
    "scrolled": true
   },
   "outputs": [
    {
     "name": "stdout",
     "output_type": "stream",
     "text": [
      "9999999\n"
     ]
    }
   ],
   "source": [
    "J, w1, w2, b = 0, 0, 0, 0\n",
    "m = 1000\n",
    "\n",
    "np.random.seed(197)\n",
    "\n",
    "w = np.array([w1,w2]).reshape(1,2)\n",
    "x_1 = np.random.randint(10, size = m)\n",
    "x_2 = np.random.randint(low = 25, high = 50, size = m)\n",
    "\n",
    "x = np.array([x_1,x_2])\n",
    "y = np.where(((x[1]<37.5) & (x[0]>5)), 1, 0)\n",
    "z = np.zeros(m)\n",
    "a = np.zeros(m)\n",
    "\n",
    "z = np.matmul(w,x) + b\n",
    "a = np.vectorize(sigma)(z)\n",
    "J = calc_cost(y,a)\n",
    "dz = a - y\n",
    "dw1 = (x[0] * dz).mean()\n",
    "dw2 = (x[1] * dz).mean()\n",
    "dw = np.array([dw1,dw2]).reshape(1,2)\n",
    "db = dz.mean()\n",
    "w = w - alpha * dw\n",
    "\n",
    "print(J)"
   ]
  },
  {
   "cell_type": "code",
   "execution_count": 129,
   "metadata": {},
   "outputs": [
    {
     "data": {
      "text/plain": [
       "5"
      ]
     },
     "execution_count": 129,
     "metadata": {},
     "output_type": "execute_result"
    }
   ],
   "source": [
    "len(w_d)"
   ]
  },
  {
   "cell_type": "code",
   "execution_count": 127,
   "metadata": {},
   "outputs": [],
   "source": [
    "w_d = np.array([1,2,0,3,0])"
   ]
  },
  {
   "cell_type": "code",
   "execution_count": null,
   "metadata": {},
   "outputs": [],
   "source": []
  }
 ],
 "metadata": {
  "kernelspec": {
   "display_name": "Python 3",
   "language": "python",
   "name": "python3"
  },
  "language_info": {
   "codemirror_mode": {
    "name": "ipython",
    "version": 3
   },
   "file_extension": ".py",
   "mimetype": "text/x-python",
   "name": "python",
   "nbconvert_exporter": "python",
   "pygments_lexer": "ipython3",
   "version": "3.8.6"
  }
 },
 "nbformat": 4,
 "nbformat_minor": 4
}
