{
 "cells": [
  {
   "cell_type": "code",
   "execution_count": 1,
   "metadata": {},
   "outputs": [],
   "source": [
    "from math import exp\n",
    "import numpy as np\n",
    "import matplotlib.pyplot as plt\n",
    "%matplotlib inline"
   ]
  },
  {
   "cell_type": "code",
   "execution_count": 2,
   "metadata": {},
   "outputs": [],
   "source": [
    "from functools import *"
   ]
  },
  {
   "cell_type": "markdown",
   "metadata": {},
   "source": [
    "# Logistic Regression"
   ]
  },
  {
   "cell_type": "code",
   "execution_count": 3,
   "metadata": {},
   "outputs": [],
   "source": [
    "def sigma(z):\n",
    "    return(1 / (1 + np.exp(-z)))\n",
    "def tanh(z):\n",
    "    return((np.exp(z)-np.exp(-z))/(np.exp(z)+np.exp(-z)))\n",
    "def relu(z):\n",
    "    return(max(0,z))\n",
    "def leaky_relu(z):\n",
    "    return(max(0.01*z,z))"
   ]
  },
  {
   "cell_type": "markdown",
   "metadata": {},
   "source": [
    "**For one sample tuple**"
   ]
  },
  {
   "cell_type": "code",
   "execution_count": 4,
   "metadata": {},
   "outputs": [],
   "source": [
    "def LogRegCompute(x_1, x_2, w_1, w_2, b, alpha,y):\n",
    "    def compute_da(y,a):\n",
    "        da = -(y/a)+(1-y)/(1-a)\n",
    "        return da\n",
    "    def compute_dz(da,a):\n",
    "        dz = da*a*(1-a)\n",
    "        return dz\n",
    "    def compute_d(dz, x=1):\n",
    "        d = dz * x\n",
    "        return d\n",
    "    \n",
    "    z = w_1*x_1 + w_2*x_2 + b\n",
    "    a = sigma(z)\n",
    "    \n",
    "    da = compute_dz(y,a)\n",
    "    dz = compute_dz(da,a)\n",
    "    \n",
    "    dw1 = compute_d(dz, x_1)\n",
    "    dw2 = compute_d(dz, x_2)\n",
    "    db = compute_d(dz)\n",
    "    \n",
    "    w_1 = w_1 + alpha*dw1\n",
    "    w_2 = w_2 + alpha*dw2\n",
    "    b = b + alpha*db\n",
    "    return(w_1,w_2,b)"
   ]
  },
  {
   "cell_type": "code",
   "execution_count": 5,
   "metadata": {
    "scrolled": true
   },
   "outputs": [
    {
     "data": {
      "text/plain": [
       "(0.0007731250458590582, 0.0015462500917181165, 1.0007731250458591)"
      ]
     },
     "execution_count": 5,
     "metadata": {},
     "output_type": "execute_result"
    }
   ],
   "source": [
    "LogRegCompute(1,2,0,0,1,0.01,2)"
   ]
  },
  {
   "cell_type": "markdown",
   "metadata": {},
   "source": [
    "**For m samples, single step**"
   ]
  },
  {
   "cell_type": "code",
   "execution_count": 6,
   "metadata": {
    "scrolled": true
   },
   "outputs": [
    {
     "name": "stdout",
     "output_type": "stream",
     "text": [
      "Accuracy = [83.86859737]\n"
     ]
    }
   ],
   "source": [
    "m = 1000\n",
    "J_array, b = np.zeros((m,1)), 0\n",
    "alpha = 0.01\n",
    "np.random.seed(197)\n",
    "\n",
    "\n",
    "w = np.zeros((1,2))\n",
    "x_1 = np.random.randint(10, size = m).reshape(-1,m)\n",
    "x_2 = np.random.randint(low = 25, high = 50, size = m).reshape(-1,m)\n",
    "x = np.array([x_1,x_2]).reshape(2,m)\n",
    "\n",
    "y = np.where(((x[1]<37.5) & (x[0]>5)), 1, 0)\n",
    "\n",
    "for i in range(1000):\n",
    "    z = np.zeros(m)\n",
    "    a = np.zeros(m)\n",
    "\n",
    "    z = np.dot(w,x) + b\n",
    "    a = sigma(z)\n",
    "    J = (-(y * np.log(a) + (1-y)* np.log(1-a))).mean()\n",
    "    dz = a - y\n",
    "    dw = (np.dot(x,dz.T).reshape(-1,2))/m\n",
    "    db = dz.mean()\n",
    "    w = w - alpha * dw\n",
    "    b = b - alpha * db\n",
    "    J_array[i] = 1-J \n",
    "\n",
    "print(f'Accuracy = {J_array[m-1]*100}')"
   ]
  },
  {
   "cell_type": "code",
   "execution_count": 7,
   "metadata": {},
   "outputs": [
    {
     "data": {
      "text/plain": [
       "Text(0.5, 1.0, 'Accuracy increase over 1000 iterations')"
      ]
     },
     "execution_count": 7,
     "metadata": {},
     "output_type": "execute_result"
    },
    {
     "data": {
      "image/png": "[encoded data removed]",
      "text/plain": [
       "<Figure size 432x288 with 1 Axes>"
      ]
     },
     "metadata": {
      "needs_background": "light"
     },
     "output_type": "display_data"
    }
   ],
   "source": [
    "plt.plot(J_array)\n",
    "plt.title(\"Accuracy increase over 1000 iterations\")"
   ]
  },
  {
   "cell_type": "markdown",
   "metadata": {},
   "source": [
    "# Neural Network "
   ]
  },
  {
   "cell_type": "code",
   "execution_count": 8,
   "metadata": {},
   "outputs": [
    {
     "name": "stdout",
     "output_type": "stream",
     "text": [
      "Load default input/output layer config: (y/n): y\n",
      "\n",
      "Status: Output\n",
      "\n",
      "Layer 0:\n",
      "a: \n",
      "[[ 1  3  4 ...  0  9  2]\n",
      " [37 36 30 ... 28 26 35]]\n",
      "Layer 1:\n",
      "a: \n",
      "[[0 0 0 ... 0 0 0]\n",
      " [0 0 0 ... 0 0 0]\n",
      " [0 0 0 ... 0 0 0]\n",
      " [0 0 0 ... 0 0 0]]\n",
      "w: \n",
      "[[0. 0.]\n",
      " [0. 0.]\n",
      " [0. 0.]\n",
      " [0. 0.]]\n",
      "b: \n",
      "[[0.]\n",
      " [0.]\n",
      " [0.]\n",
      " [0.]]\n",
      "Layer 2:\n",
      "a: \n",
      "[[0.2361766 0.2361766 0.2361766 0.2361766 0.2361766 0.2361766 0.2361766\n",
      "  0.2361766 0.2361766 0.2361766 0.2361766 0.2361766 0.2361766 0.2361766\n",
      "  0.2361766 0.2361766 0.2361766 0.2361766 0.2361766 0.2361766 0.2361766\n",
      "  0.2361766 0.2361766 0.2361766 0.2361766 0.2361766 0.2361766 0.2361766\n",
      "  0.2361766 0.2361766 0.2361766 0.2361766 0.2361766 0.2361766 0.2361766\n",
      "  0.2361766 0.2361766 0.2361766 0.2361766 0.2361766 0.2361766 0.2361766\n",
      "  0.2361766 0.2361766 0.2361766 0.2361766 0.2361766 0.2361766 0.2361766\n",
      "  0.2361766 0.2361766 0.2361766 0.2361766 0.2361766 0.2361766 0.2361766\n",
      "  0.2361766 0.2361766 0.2361766 0.2361766 0.2361766 0.2361766 0.2361766\n",
      "  0.2361766 0.2361766 0.2361766 0.2361766 0.2361766 0.2361766 0.2361766\n",
      "  0.2361766 0.2361766 0.2361766 0.2361766 0.2361766 0.2361766 0.2361766\n",
      "  0.2361766 0.2361766 0.2361766 0.2361766 0.2361766 0.2361766 0.2361766\n",
      "  0.2361766 0.2361766 0.2361766 0.2361766 0.2361766 0.2361766 0.2361766\n",
      "  0.2361766 0.2361766 0.2361766 0.2361766 0.2361766 0.2361766 0.2361766\n",
      "  0.2361766 0.2361766 0.2361766 0.2361766 0.2361766 0.2361766 0.2361766\n",
      "  0.2361766 0.2361766 0.2361766 0.2361766 0.2361766 0.2361766 0.2361766\n",
      "  0.2361766 0.2361766 0.2361766 0.2361766 0.2361766 0.2361766 0.2361766\n",
      "  0.2361766 0.2361766 0.2361766 0.2361766 0.2361766 0.2361766 0.2361766\n",
      "  0.2361766 0.2361766 0.2361766 0.2361766 0.2361766 0.2361766 0.2361766\n",
      "  0.2361766 0.2361766 0.2361766 0.2361766 0.2361766 0.2361766 0.2361766\n",
      "  0.2361766 0.2361766 0.2361766 0.2361766 0.2361766 0.2361766 0.2361766\n",
      "  0.2361766 0.2361766 0.2361766 0.2361766 0.2361766 0.2361766 0.2361766\n",
      "  0.2361766 0.2361766 0.2361766 0.2361766 0.2361766 0.2361766 0.2361766\n",
      "  0.2361766 0.2361766 0.2361766 0.2361766 0.2361766 0.2361766 0.2361766\n",
      "  0.2361766 0.2361766 0.2361766 0.2361766 0.2361766 0.2361766 0.2361766\n",
      "  0.2361766 0.2361766 0.2361766 0.2361766 0.2361766 0.2361766 0.2361766\n",
      "  0.2361766 0.2361766 0.2361766 0.2361766 0.2361766 0.2361766 0.2361766\n",
      "  0.2361766 0.2361766 0.2361766 0.2361766 0.2361766 0.2361766 0.2361766\n",
      "  0.2361766 0.2361766 0.2361766 0.2361766 0.2361766 0.2361766 0.2361766\n",
      "  0.2361766 0.2361766 0.2361766 0.2361766 0.2361766 0.2361766 0.2361766\n",
      "  0.2361766 0.2361766 0.2361766 0.2361766 0.2361766 0.2361766 0.2361766\n",
      "  0.2361766 0.2361766 0.2361766 0.2361766 0.2361766 0.2361766 0.2361766\n",
      "  0.2361766 0.2361766 0.2361766 0.2361766 0.2361766 0.2361766 0.2361766\n",
      "  0.2361766 0.2361766 0.2361766 0.2361766 0.2361766 0.2361766 0.2361766\n",
      "  0.2361766 0.2361766 0.2361766 0.2361766 0.2361766 0.2361766 0.2361766\n",
      "  0.2361766 0.2361766 0.2361766 0.2361766 0.2361766 0.2361766 0.2361766\n",
      "  0.2361766 0.2361766 0.2361766 0.2361766 0.2361766 0.2361766 0.2361766\n",
      "  0.2361766 0.2361766 0.2361766 0.2361766 0.2361766 0.2361766 0.2361766\n",
      "  0.2361766 0.2361766 0.2361766 0.2361766 0.2361766 0.2361766 0.2361766\n",
      "  0.2361766 0.2361766 0.2361766 0.2361766 0.2361766 0.2361766 0.2361766\n",
      "  0.2361766 0.2361766 0.2361766 0.2361766 0.2361766 0.2361766 0.2361766\n",
      "  0.2361766 0.2361766 0.2361766 0.2361766 0.2361766 0.2361766 0.2361766\n",
      "  0.2361766 0.2361766 0.2361766 0.2361766 0.2361766 0.2361766 0.2361766\n",
      "  0.2361766 0.2361766 0.2361766 0.2361766 0.2361766 0.2361766 0.2361766\n",
      "  0.2361766 0.2361766 0.2361766 0.2361766 0.2361766 0.2361766 0.2361766\n",
      "  0.2361766 0.2361766 0.2361766 0.2361766 0.2361766 0.2361766 0.2361766\n",
      "  0.2361766 0.2361766 0.2361766 0.2361766 0.2361766 0.2361766 0.2361766\n",
      "  0.2361766 0.2361766 0.2361766 0.2361766 0.2361766 0.2361766 0.2361766\n",
      "  0.2361766 0.2361766 0.2361766 0.2361766 0.2361766 0.2361766 0.2361766\n",
      "  0.2361766 0.2361766 0.2361766 0.2361766 0.2361766 0.2361766 0.2361766\n",
      "  0.2361766 0.2361766 0.2361766 0.2361766 0.2361766 0.2361766 0.2361766\n",
      "  0.2361766 0.2361766 0.2361766 0.2361766 0.2361766 0.2361766 0.2361766\n",
      "  0.2361766 0.2361766 0.2361766 0.2361766 0.2361766 0.2361766 0.2361766\n",
      "  0.2361766 0.2361766 0.2361766 0.2361766 0.2361766 0.2361766 0.2361766\n",
      "  0.2361766 0.2361766 0.2361766 0.2361766 0.2361766 0.2361766 0.2361766\n",
      "  0.2361766 0.2361766 0.2361766 0.2361766 0.2361766 0.2361766 0.2361766\n",
      "  0.2361766 0.2361766 0.2361766 0.2361766 0.2361766 0.2361766 0.2361766\n",
      "  0.2361766 0.2361766 0.2361766 0.2361766 0.2361766 0.2361766 0.2361766\n",
      "  0.2361766 0.2361766 0.2361766 0.2361766 0.2361766 0.2361766 0.2361766\n",
      "  0.2361766 0.2361766 0.2361766 0.2361766 0.2361766 0.2361766 0.2361766\n",
      "  0.2361766 0.2361766 0.2361766 0.2361766 0.2361766 0.2361766 0.2361766\n",
      "  0.2361766 0.2361766 0.2361766 0.2361766 0.2361766 0.2361766 0.2361766\n",
      "  0.2361766 0.2361766 0.2361766 0.2361766 0.2361766 0.2361766 0.2361766\n",
      "  0.2361766 0.2361766 0.2361766 0.2361766 0.2361766 0.2361766 0.2361766\n",
      "  0.2361766 0.2361766 0.2361766 0.2361766 0.2361766 0.2361766 0.2361766\n",
      "  0.2361766 0.2361766 0.2361766 0.2361766 0.2361766 0.2361766 0.2361766\n",
      "  0.2361766 0.2361766 0.2361766 0.2361766 0.2361766 0.2361766 0.2361766\n",
      "  0.2361766 0.2361766 0.2361766 0.2361766 0.2361766 0.2361766 0.2361766\n",
      "  0.2361766 0.2361766 0.2361766 0.2361766 0.2361766 0.2361766 0.2361766\n",
      "  0.2361766 0.2361766 0.2361766 0.2361766 0.2361766 0.2361766 0.2361766\n",
      "  0.2361766 0.2361766 0.2361766 0.2361766 0.2361766 0.2361766 0.2361766\n",
      "  0.2361766 0.2361766 0.2361766 0.2361766 0.2361766 0.2361766 0.2361766\n",
      "  0.2361766 0.2361766 0.2361766 0.2361766 0.2361766 0.2361766 0.2361766\n",
      "  0.2361766 0.2361766 0.2361766 0.2361766 0.2361766 0.2361766 0.2361766\n",
      "  0.2361766 0.2361766 0.2361766 0.2361766 0.2361766 0.2361766 0.2361766\n",
      "  0.2361766 0.2361766 0.2361766 0.2361766 0.2361766 0.2361766 0.2361766\n",
      "  0.2361766 0.2361766 0.2361766 0.2361766 0.2361766 0.2361766 0.2361766\n",
      "  0.2361766 0.2361766 0.2361766 0.2361766 0.2361766 0.2361766 0.2361766\n",
      "  0.2361766 0.2361766 0.2361766 0.2361766 0.2361766 0.2361766 0.2361766\n",
      "  0.2361766 0.2361766 0.2361766 0.2361766 0.2361766 0.2361766 0.2361766\n",
      "  0.2361766 0.2361766 0.2361766 0.2361766 0.2361766 0.2361766 0.2361766\n",
      "  0.2361766 0.2361766 0.2361766 0.2361766 0.2361766 0.2361766 0.2361766\n",
      "  0.2361766 0.2361766 0.2361766 0.2361766 0.2361766 0.2361766 0.2361766\n",
      "  0.2361766 0.2361766 0.2361766 0.2361766 0.2361766 0.2361766 0.2361766\n",
      "  0.2361766 0.2361766 0.2361766 0.2361766 0.2361766 0.2361766 0.2361766\n",
      "  0.2361766 0.2361766 0.2361766 0.2361766 0.2361766 0.2361766 0.2361766\n",
      "  0.2361766 0.2361766 0.2361766 0.2361766 0.2361766 0.2361766 0.2361766\n",
      "  0.2361766 0.2361766 0.2361766 0.2361766 0.2361766 0.2361766 0.2361766\n",
      "  0.2361766 0.2361766 0.2361766 0.2361766 0.2361766 0.2361766 0.2361766\n",
      "  0.2361766 0.2361766 0.2361766 0.2361766 0.2361766 0.2361766 0.2361766\n",
      "  0.2361766 0.2361766 0.2361766 0.2361766 0.2361766 0.2361766 0.2361766\n",
      "  0.2361766 0.2361766 0.2361766 0.2361766 0.2361766 0.2361766 0.2361766\n",
      "  0.2361766 0.2361766 0.2361766 0.2361766 0.2361766 0.2361766 0.2361766\n",
      "  0.2361766 0.2361766 0.2361766 0.2361766 0.2361766 0.2361766 0.2361766\n",
      "  0.2361766 0.2361766 0.2361766 0.2361766 0.2361766 0.2361766 0.2361766\n",
      "  0.2361766 0.2361766 0.2361766 0.2361766 0.2361766 0.2361766 0.2361766\n",
      "  0.2361766 0.2361766 0.2361766 0.2361766 0.2361766 0.2361766 0.2361766\n",
      "  0.2361766 0.2361766 0.2361766 0.2361766 0.2361766 0.2361766 0.2361766\n",
      "  0.2361766 0.2361766 0.2361766 0.2361766 0.2361766 0.2361766 0.2361766\n",
      "  0.2361766 0.2361766 0.2361766 0.2361766 0.2361766 0.2361766 0.2361766\n",
      "  0.2361766 0.2361766 0.2361766 0.2361766 0.2361766 0.2361766 0.2361766\n",
      "  0.2361766 0.2361766 0.2361766 0.2361766 0.2361766 0.2361766 0.2361766\n",
      "  0.2361766 0.2361766 0.2361766 0.2361766 0.2361766 0.2361766 0.2361766\n",
      "  0.2361766 0.2361766 0.2361766 0.2361766 0.2361766 0.2361766 0.2361766\n",
      "  0.2361766 0.2361766 0.2361766 0.2361766 0.2361766 0.2361766 0.2361766\n",
      "  0.2361766 0.2361766 0.2361766 0.2361766 0.2361766 0.2361766 0.2361766\n",
      "  0.2361766 0.2361766 0.2361766 0.2361766 0.2361766 0.2361766 0.2361766\n",
      "  0.2361766 0.2361766 0.2361766 0.2361766 0.2361766 0.2361766 0.2361766\n",
      "  0.2361766 0.2361766 0.2361766 0.2361766 0.2361766 0.2361766 0.2361766\n",
      "  0.2361766 0.2361766 0.2361766 0.2361766 0.2361766 0.2361766 0.2361766\n",
      "  0.2361766 0.2361766 0.2361766 0.2361766 0.2361766 0.2361766 0.2361766\n",
      "  0.2361766 0.2361766 0.2361766 0.2361766 0.2361766 0.2361766 0.2361766\n",
      "  0.2361766 0.2361766 0.2361766 0.2361766 0.2361766 0.2361766 0.2361766\n",
      "  0.2361766 0.2361766 0.2361766 0.2361766 0.2361766 0.2361766 0.2361766\n",
      "  0.2361766 0.2361766 0.2361766 0.2361766 0.2361766 0.2361766 0.2361766\n",
      "  0.2361766 0.2361766 0.2361766 0.2361766 0.2361766 0.2361766 0.2361766\n",
      "  0.2361766 0.2361766 0.2361766 0.2361766 0.2361766 0.2361766 0.2361766\n",
      "  0.2361766 0.2361766 0.2361766 0.2361766 0.2361766 0.2361766 0.2361766\n",
      "  0.2361766 0.2361766 0.2361766 0.2361766 0.2361766 0.2361766 0.2361766\n",
      "  0.2361766 0.2361766 0.2361766 0.2361766 0.2361766 0.2361766 0.2361766\n",
      "  0.2361766 0.2361766 0.2361766 0.2361766 0.2361766 0.2361766 0.2361766\n",
      "  0.2361766 0.2361766 0.2361766 0.2361766 0.2361766 0.2361766 0.2361766\n",
      "  0.2361766 0.2361766 0.2361766 0.2361766 0.2361766 0.2361766 0.2361766\n",
      "  0.2361766 0.2361766 0.2361766 0.2361766 0.2361766 0.2361766 0.2361766\n",
      "  0.2361766 0.2361766 0.2361766 0.2361766 0.2361766 0.2361766 0.2361766\n",
      "  0.2361766 0.2361766 0.2361766 0.2361766 0.2361766 0.2361766 0.2361766\n",
      "  0.2361766 0.2361766 0.2361766 0.2361766 0.2361766 0.2361766 0.2361766\n",
      "  0.2361766 0.2361766 0.2361766 0.2361766 0.2361766 0.2361766 0.2361766\n",
      "  0.2361766 0.2361766 0.2361766 0.2361766 0.2361766 0.2361766 0.2361766\n",
      "  0.2361766 0.2361766 0.2361766 0.2361766 0.2361766 0.2361766 0.2361766\n",
      "  0.2361766 0.2361766 0.2361766 0.2361766 0.2361766 0.2361766 0.2361766\n",
      "  0.2361766 0.2361766 0.2361766 0.2361766 0.2361766 0.2361766 0.2361766\n",
      "  0.2361766 0.2361766 0.2361766 0.2361766 0.2361766 0.2361766 0.2361766\n",
      "  0.2361766 0.2361766 0.2361766 0.2361766 0.2361766 0.2361766 0.2361766\n",
      "  0.2361766 0.2361766 0.2361766 0.2361766 0.2361766 0.2361766 0.2361766\n",
      "  0.2361766 0.2361766 0.2361766 0.2361766 0.2361766 0.2361766 0.2361766\n",
      "  0.2361766 0.2361766 0.2361766 0.2361766 0.2361766 0.2361766 0.2361766\n",
      "  0.2361766 0.2361766 0.2361766 0.2361766 0.2361766 0.2361766 0.2361766\n",
      "  0.2361766 0.2361766 0.2361766 0.2361766 0.2361766 0.2361766 0.2361766\n",
      "  0.2361766 0.2361766 0.2361766 0.2361766 0.2361766 0.2361766 0.2361766\n",
      "  0.2361766 0.2361766 0.2361766 0.2361766 0.2361766 0.2361766 0.2361766\n",
      "  0.2361766 0.2361766 0.2361766 0.2361766 0.2361766 0.2361766 0.2361766\n",
      "  0.2361766 0.2361766 0.2361766 0.2361766 0.2361766 0.2361766]]\n",
      "w: \n",
      "[[0. 0. 0. 0.]]\n",
      "b: \n",
      "[[-1.17411853]]\n",
      "Accuracy = [50.4170025]\n"
     ]
    }
   ],
   "source": [
    "m = 1000\n",
    "J_array, b = np.zeros((m,1)), 0\n",
    "alpha = 0.01\n",
    "np.random.seed(197)\n",
    "\n",
    "\n",
    "w = np.zeros((1,2))\n",
    "x_1 = np.random.randint(10, size = m).reshape(-1,m)\n",
    "x_2 = np.random.randint(low = 25, high = 50, size = m).reshape(-1,m)\n",
    "x = np.array([x_1,x_2]).reshape(2,m)\n",
    "\n",
    "y = np.where(((x[1]<37.5) & (x[0]>5)), 1, 0).reshape(1,1000)\n",
    "\n",
    "def init_network():\n",
    "    hidden_layer_nodes = []\n",
    "    if(input(\"Load default input/output layer config: (y/n): \").lower()=='n'):\n",
    "        input_layer_node = int(input(\"Enter number of nodes in input layer 0: \"))\n",
    "        n_layer = int(input(\"Enter number of layers in network: \"))\n",
    "        for i in range(1,n_layer):\n",
    "            hidden_layer_nodes.append(input(f\"Enter no. of nodes in layer {i}\"))\n",
    "        output_layer_node = int(input(f\"Enter number of nodes in output layer {n_layer}: \"))\n",
    "    else:\n",
    "        n_layer = 2\n",
    "        input_layer_node = 2\n",
    "        output_layer_node = 1\n",
    "        hidden_layer_nodes = [4]  \n",
    "    n__per_layer = [input_layer_node] + hidden_layer_nodes + [output_layer_node] \n",
    "    hidden_layers = {}\n",
    "    for i in range(n_layer+1):\n",
    "        hidden_layers[f'Layer {i}'] = {'a':np.zeros(shape=(n__per_layer[i],1))}\n",
    "        if(i != 0):\n",
    "            hidden_layers[f'Layer {i}']['w'] = np.zeros(shape=(n__per_layer[i],n__per_layer[i-1]))\n",
    "            hidden_layers[f'Layer {i}']['b'] = np.zeros(shape=(n__per_layer[i],1))\n",
    "    return(hidden_layers)\n",
    "\n",
    "def display_net(net, status = \"original\"):\n",
    "    print(f'\\nStatus: {status}\\n')\n",
    "    for key,value in net.items():\n",
    "        print(f'{key}:')\n",
    "        for key,value in value.items():\n",
    "            print(f'{key}: \\n{value}')\n",
    "def forward_prop(net, x):\n",
    "    n_layer = f'Layer {len(net)-1}'\n",
    "    for key,value in net.items():\n",
    "        if(key!='Layer 0'):\n",
    "            w = value['w']\n",
    "            a = value['a']\n",
    "            b = value['b']\n",
    "            if(key == n_layer):\n",
    "                a = sigma(np.dot(w,a_prev) + b)\n",
    "            else:\n",
    "                a = np.vectorize(relu)(np.dot(w,a_prev) + b)\n",
    "            value['a'] = a \n",
    "        a_prev = value['a']\n",
    "    return(net)\n",
    "def back_prop(net, y, i):\n",
    "    net = dict(reversed(list(net.items())))\n",
    "    n_layer = f'Layer {len(net)-1}'\n",
    "    J_array[i] = (-(y * np.log(net[n_layer]['a']) + (1-y)* np.log(1-net[n_layer]['a']))).mean()\n",
    "    _net = list(net.items()) \n",
    "    dz = [[] for x in range(int(n_layer[-1]))]\n",
    "    for j in range(len(_net)-1):\n",
    "        a_curr = _net[j][1]['a']\n",
    "        \n",
    "        a_next = _net[j+1][1]['a']\n",
    "        if(j == 0):\n",
    "            _dz = a_curr - y\n",
    "        else:\n",
    "            w_prev = _net[j-1][1]['w']\n",
    "            dz_prev = dz[j-1]\n",
    "            _dz = np.dot(w_prev.T,dz_prev) * a_curr*(1-a_curr)\n",
    "\n",
    "        dw = np.dot(_dz,a_next.T)/m\n",
    "        db = _dz.mean(axis = 1, keepdims = True) \n",
    "        _net[j][1]['w'] = _net[j][1]['w'] - alpha * dw \n",
    "        _net[j][1]['b'] = _net[j][1]['b'] - alpha * db\n",
    "        dz[j] = _dz\n",
    "    net = dict(reversed(_net))\n",
    "    return(net)\n",
    "\n",
    "net = init_network()\n",
    "net['Layer 0']['a'] = x\n",
    "\n",
    "for i in range(1000):\n",
    "    net = forward_prop(net, x)\n",
    "    net = back_prop(net,y, i)\n",
    "\n",
    "display_net(net, \"Output\")\n",
    "\n",
    "print(f'Accuracy = {J_array[m-1]*100}')"
   ]
  }
 ],
 "metadata": {
  "kernelspec": {
   "display_name": "Python 3",
   "language": "python",
   "name": "python3"
  },
  "language_info": {
   "codemirror_mode": {
    "name": "ipython",
    "version": 3
   },
   "file_extension": ".py",
   "mimetype": "text/x-python",
   "name": "python",
   "nbconvert_exporter": "python",
   "pygments_lexer": "ipython3",
   "version": "3.8.6"
  }
 },
 "nbformat": 4,
 "nbformat_minor": 4
}
