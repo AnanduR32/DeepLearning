{
  "nbformat": 4,
  "nbformat_minor": 0,
  "metadata": {
    "colab": {
      "name": "Tensorflow 2.0",
      "provenance": [],
      "collapsed_sections": [],
      "toc_visible": true
    },
    "kernelspec": {
      "display_name": "Python 3",
      "name": "python3"
    }
  },
  "cells": [
    {
      "cell_type": "code",
      "metadata": {
        "id": "oauLq-B8z_n8"
      },
      "source": [
        "!pip install -q sklearn"
      ],
      "execution_count": 1,
      "outputs": []
    },
    {
      "cell_type": "code",
      "metadata": {
        "id": "jF_2A3XFWkLn"
      },
      "source": [
        "%tensorflow_version 2.x\n",
        "import tensorflow.compat.v2.feature_column as fc\n",
        "import tensorflow as tf\n",
        "\n",
        "from __future__ import absolute_import, division, print_function, unicode_literals\n",
        "from IPython.display import clear_output\n",
        "from six.moves import urllib\n",
        "\n",
        "import pandas as pd\n",
        "import numpy as np\n",
        "import matplotlib.pyplot as plt\n",
        "%matplotlib inline"
      ],
      "execution_count": 2,
      "outputs": []
    },
    {
      "cell_type": "code",
      "metadata": {
        "colab": {
          "base_uri": "https://localhost:8080/"
        },
        "id": "YRaJLoEOWmMA",
        "outputId": "ac3d4944-711e-4c35-c5b0-9e41419add29"
      },
      "source": [
        "print(tf.__version__)"
      ],
      "execution_count": 3,
      "outputs": [
        {
          "output_type": "stream",
          "text": [
            "2.5.0\n"
          ],
          "name": "stdout"
        }
      ]
    },
    {
      "cell_type": "markdown",
      "metadata": {
        "id": "fsbF7TWLaK0I"
      },
      "source": [
        "**Tensors** are the basic building blocks of tensorflow, it represents graphs that can produce it's own individual outputs, there can be numerous tensors that exists for a model, and when a session runs a series of tensors produces outputs up till the final result of the model.   \n",
        "\n",
        "Tensors can have ranks, a rank 1 tensor represents a vector whereas a rank 2 and above represent matrices, but unlike those in numpy arrays these tensors can have varying datatypes. \n",
        "\n",
        "They can be of 4 types:\n",
        "* Variable  \n",
        "* Constant  \n",
        "* Placeholder  \n",
        "* SparseTensor  \n",
        "\n",
        "And can be created as below: \n",
        "\n"
      ]
    },
    {
      "cell_type": "code",
      "metadata": {
        "id": "f7SDeSfAW2f8"
      },
      "source": [
        "rank1_tensor = tf.Variable(['My','Name','is','Anandu'], tf.string)\n",
        "rank2_tensor = tf.Variable([['Anandu R','Software Engineer','SOTI'],['Aishwarya Michael','Software Engineer','Infosys']])"
      ],
      "execution_count": 4,
      "outputs": []
    },
    {
      "cell_type": "code",
      "metadata": {
        "colab": {
          "base_uri": "https://localhost:8080/"
        },
        "id": "FsBNyAr5a3gJ",
        "outputId": "4f7f5fe9-4965-4ab3-d3eb-3540af6c7dcb"
      },
      "source": [
        "print(f'\\nTensor 1: \\n\\tRank: {tf.rank(rank1_tensor)}\\n\\tShape: {rank1_tensor.shape}')\n",
        "print(f'\\nTensor 2: \\n\\tRank: {tf.rank(rank2_tensor)}\\n\\tShape: {rank2_tensor.shape}')"
      ],
      "execution_count": 5,
      "outputs": [
        {
          "output_type": "stream",
          "text": [
            "\n",
            "Tensor 1: \n",
            "\tRank: 1\n",
            "\tShape: (4,)\n",
            "\n",
            "Tensor 2: \n",
            "\tRank: 2\n",
            "\tShape: (2, 3)\n"
          ],
          "name": "stdout"
        }
      ]
    },
    {
      "cell_type": "markdown",
      "metadata": {
        "id": "hePjeUDUgmx9"
      },
      "source": [
        "Reshaping tensors"
      ]
    },
    {
      "cell_type": "code",
      "metadata": {
        "colab": {
          "base_uri": "https://localhost:8080/"
        },
        "id": "OkDKnA34ewcq",
        "outputId": "e95c6af6-fda7-435e-e0f5-13eb8fed8e14"
      },
      "source": [
        "tf.reshape(rank2_tensor, (3,2))"
      ],
      "execution_count": 6,
      "outputs": [
        {
          "output_type": "execute_result",
          "data": {
            "text/plain": [
              "<tf.Tensor: shape=(3, 2), dtype=string, numpy=\n",
              "array([[b'Anandu R', b'Software Engineer'],\n",
              "       [b'SOTI', b'Aishwarya Michael'],\n",
              "       [b'Software Engineer', b'Infosys']], dtype=object)>"
            ]
          },
          "metadata": {
            "tags": []
          },
          "execution_count": 6
        }
      ]
    },
    {
      "cell_type": "markdown",
      "metadata": {
        "id": "SNY1hnSDh6Nc"
      },
      "source": [
        "# Linear regression\n",
        "\n",
        "For linearly correlated datapoints in $\\mathit{R^{n}}$ space"
      ]
    },
    {
      "cell_type": "code",
      "metadata": {
        "id": "Q-11N2a9ihLr"
      },
      "source": [
        "df_train = pd.read_csv(\"https://storage.googleapis.com/tf-datasets/titanic/train.csv\")\n",
        "df_eval = pd.read_csv(\"https://storage.googleapis.com/tf-datasets/titanic/eval.csv\")\n",
        "y_train = df_train.pop(\"survived\")\n",
        "y_eval = df_eval.pop(\"survived\")"
      ],
      "execution_count": 7,
      "outputs": []
    },
    {
      "cell_type": "code",
      "metadata": {
        "id": "IhEZ5wjDihCO",
        "colab": {
          "base_uri": "https://localhost:8080/",
          "height": 234
        },
        "outputId": "acfd633a-4bad-427f-8c06-9ef1d63bbf8e"
      },
      "source": [
        "df_train.head(6)"
      ],
      "execution_count": 8,
      "outputs": [
        {
          "output_type": "execute_result",
          "data": {
            "text/html": [
              "<div>\n",
              "<style scoped>\n",
              "    .dataframe tbody tr th:only-of-type {\n",
              "        vertical-align: middle;\n",
              "    }\n",
              "\n",
              "    .dataframe tbody tr th {\n",
              "        vertical-align: top;\n",
              "    }\n",
              "\n",
              "    .dataframe thead th {\n",
              "        text-align: right;\n",
              "    }\n",
              "</style>\n",
              "<table border=\"1\" class=\"dataframe\">\n",
              "  <thead>\n",
              "    <tr style=\"text-align: right;\">\n",
              "      <th></th>\n",
              "      <th>sex</th>\n",
              "      <th>age</th>\n",
              "      <th>n_siblings_spouses</th>\n",
              "      <th>parch</th>\n",
              "      <th>fare</th>\n",
              "      <th>class</th>\n",
              "      <th>deck</th>\n",
              "      <th>embark_town</th>\n",
              "      <th>alone</th>\n",
              "    </tr>\n",
              "  </thead>\n",
              "  <tbody>\n",
              "    <tr>\n",
              "      <th>0</th>\n",
              "      <td>male</td>\n",
              "      <td>22.0</td>\n",
              "      <td>1</td>\n",
              "      <td>0</td>\n",
              "      <td>7.2500</td>\n",
              "      <td>Third</td>\n",
              "      <td>unknown</td>\n",
              "      <td>Southampton</td>\n",
              "      <td>n</td>\n",
              "    </tr>\n",
              "    <tr>\n",
              "      <th>1</th>\n",
              "      <td>female</td>\n",
              "      <td>38.0</td>\n",
              "      <td>1</td>\n",
              "      <td>0</td>\n",
              "      <td>71.2833</td>\n",
              "      <td>First</td>\n",
              "      <td>C</td>\n",
              "      <td>Cherbourg</td>\n",
              "      <td>n</td>\n",
              "    </tr>\n",
              "    <tr>\n",
              "      <th>2</th>\n",
              "      <td>female</td>\n",
              "      <td>26.0</td>\n",
              "      <td>0</td>\n",
              "      <td>0</td>\n",
              "      <td>7.9250</td>\n",
              "      <td>Third</td>\n",
              "      <td>unknown</td>\n",
              "      <td>Southampton</td>\n",
              "      <td>y</td>\n",
              "    </tr>\n",
              "    <tr>\n",
              "      <th>3</th>\n",
              "      <td>female</td>\n",
              "      <td>35.0</td>\n",
              "      <td>1</td>\n",
              "      <td>0</td>\n",
              "      <td>53.1000</td>\n",
              "      <td>First</td>\n",
              "      <td>C</td>\n",
              "      <td>Southampton</td>\n",
              "      <td>n</td>\n",
              "    </tr>\n",
              "    <tr>\n",
              "      <th>4</th>\n",
              "      <td>male</td>\n",
              "      <td>28.0</td>\n",
              "      <td>0</td>\n",
              "      <td>0</td>\n",
              "      <td>8.4583</td>\n",
              "      <td>Third</td>\n",
              "      <td>unknown</td>\n",
              "      <td>Queenstown</td>\n",
              "      <td>y</td>\n",
              "    </tr>\n",
              "    <tr>\n",
              "      <th>5</th>\n",
              "      <td>male</td>\n",
              "      <td>2.0</td>\n",
              "      <td>3</td>\n",
              "      <td>1</td>\n",
              "      <td>21.0750</td>\n",
              "      <td>Third</td>\n",
              "      <td>unknown</td>\n",
              "      <td>Southampton</td>\n",
              "      <td>n</td>\n",
              "    </tr>\n",
              "  </tbody>\n",
              "</table>\n",
              "</div>"
            ],
            "text/plain": [
              "      sex   age  n_siblings_spouses  parch  ...  class     deck  embark_town alone\n",
              "0    male  22.0                   1      0  ...  Third  unknown  Southampton     n\n",
              "1  female  38.0                   1      0  ...  First        C    Cherbourg     n\n",
              "2  female  26.0                   0      0  ...  Third  unknown  Southampton     y\n",
              "3  female  35.0                   1      0  ...  First        C  Southampton     n\n",
              "4    male  28.0                   0      0  ...  Third  unknown   Queenstown     y\n",
              "5    male   2.0                   3      1  ...  Third  unknown  Southampton     n\n",
              "\n",
              "[6 rows x 9 columns]"
            ]
          },
          "metadata": {
            "tags": []
          },
          "execution_count": 8
        }
      ]
    },
    {
      "cell_type": "markdown",
      "metadata": {
        "id": "4TPAzTviNlbz"
      },
      "source": [
        "# 2.0 Analysis"
      ]
    },
    {
      "cell_type": "markdown",
      "metadata": {
        "id": "0J08nFhKbS1M"
      },
      "source": [
        "## 2.1 class"
      ]
    },
    {
      "cell_type": "markdown",
      "metadata": {
        "id": "uRvqDR-dcRzj"
      },
      "source": [
        "### 2.1.1 Unique values"
      ]
    },
    {
      "cell_type": "code",
      "metadata": {
        "colab": {
          "base_uri": "https://localhost:8080/"
        },
        "id": "LU5URho2bjIV",
        "outputId": "13a5fda2-8164-44b0-a265-a1d9da2d2dd7"
      },
      "source": [
        "[val for val in df_train['class'].unique()]"
      ],
      "execution_count": 9,
      "outputs": [
        {
          "output_type": "execute_result",
          "data": {
            "text/plain": [
              "['Third', 'First', 'Second']"
            ]
          },
          "metadata": {
            "tags": []
          },
          "execution_count": 9
        }
      ]
    },
    {
      "cell_type": "markdown",
      "metadata": {
        "id": "nhvp3zU5NzHa"
      },
      "source": [
        "### 2.1.x Stacked survival stats"
      ]
    },
    {
      "cell_type": "code",
      "metadata": {
        "colab": {
          "base_uri": "https://localhost:8080/",
          "height": 323
        },
        "id": "HefkCuH42FAH",
        "outputId": "ede44035-b94f-445d-9c4a-d7a5d0d74c1c"
      },
      "source": [
        "df = pd.DataFrame(pd.concat([df_train, y_train], axis = 1).groupby(\"class\")['survived'].value_counts())\n",
        "df = df.rename(columns={'survived':'count'}).pivot_table(index = 'class', values = 'count', columns = 'survived').reset_index()\n",
        "df.plot(kind = \"bar\", stacked = True, x = 'class')"
      ],
      "execution_count": 10,
      "outputs": [
        {
          "output_type": "execute_result",
          "data": {
            "text/plain": [
              "<matplotlib.axes._subplots.AxesSubplot at 0x7fc771a06a10>"
            ]
          },
          "metadata": {
            "tags": []
          },
          "execution_count": 10
        },
        {
          "output_type": "display_data",
          "data": {
            "image/png": "[encoded data removed]",
            "text/plain": [
              "<Figure size 432x288 with 1 Axes>"
            ]
          },
          "metadata": {
            "tags": [],
            "needs_background": "light"
          }
        }
      ]
    },
    {
      "cell_type": "markdown",
      "metadata": {
        "id": "KoSbVVF4R9hJ"
      },
      "source": [
        "## 2.2 Alone"
      ]
    },
    {
      "cell_type": "markdown",
      "metadata": {
        "id": "E-IcqcqYcnOo"
      },
      "source": [
        "### 2.2.1 Unique Values"
      ]
    },
    {
      "cell_type": "code",
      "metadata": {
        "colab": {
          "base_uri": "https://localhost:8080/"
        },
        "id": "a259TniNVnM9",
        "outputId": "9e0c9c55-a087-41ab-8fd6-bde968124926"
      },
      "source": [
        "[val for val in df_train['alone'].unique()]"
      ],
      "execution_count": 11,
      "outputs": [
        {
          "output_type": "execute_result",
          "data": {
            "text/plain": [
              "['n', 'y']"
            ]
          },
          "metadata": {
            "tags": []
          },
          "execution_count": 11
        }
      ]
    },
    {
      "cell_type": "markdown",
      "metadata": {
        "id": "KyRuX4KNSIny"
      },
      "source": [
        "### 2.2.x Stacked survival stats"
      ]
    },
    {
      "cell_type": "code",
      "metadata": {
        "colab": {
          "base_uri": "https://localhost:8080/",
          "height": 293
        },
        "id": "B-y1ffYp2Sve",
        "outputId": "2e367393-cef4-4b45-c713-9e33eebd83dd"
      },
      "source": [
        "df = pd.DataFrame(pd.concat([df_train, y_train], axis = 1).groupby(\"alone\")['survived'].value_counts())\n",
        "df = df.rename(columns={'survived':'count'}).pivot_table(index = 'alone', values = 'count', columns = 'survived').reset_index()\n",
        "df.plot(kind = \"bar\", stacked = True, x = 'alone')"
      ],
      "execution_count": 12,
      "outputs": [
        {
          "output_type": "execute_result",
          "data": {
            "text/plain": [
              "<matplotlib.axes._subplots.AxesSubplot at 0x7fc7706a2ed0>"
            ]
          },
          "metadata": {
            "tags": []
          },
          "execution_count": 12
        },
        {
          "output_type": "display_data",
          "data": {
            "image/png": "[encoded data removed]",
            "text/plain": [
              "<Figure size 432x288 with 1 Axes>"
            ]
          },
          "metadata": {
            "tags": [],
            "needs_background": "light"
          }
        }
      ]
    },
    {
      "cell_type": "markdown",
      "metadata": {
        "id": "e43KNOhDVhL2"
      },
      "source": [
        "## 2.3 Sex"
      ]
    },
    {
      "cell_type": "markdown",
      "metadata": {
        "id": "Q_vS2LeVcr01"
      },
      "source": [
        "### 2.3.1 Unique values"
      ]
    },
    {
      "cell_type": "code",
      "metadata": {
        "colab": {
          "base_uri": "https://localhost:8080/"
        },
        "id": "L6Q504e7Vf2N",
        "outputId": "fe9b5b6f-2e22-4bed-fd61-3b6f7f73c8e6"
      },
      "source": [
        "[val for val in df_train['sex'].unique()]"
      ],
      "execution_count": 13,
      "outputs": [
        {
          "output_type": "execute_result",
          "data": {
            "text/plain": [
              "['male', 'female']"
            ]
          },
          "metadata": {
            "tags": []
          },
          "execution_count": 13
        }
      ]
    },
    {
      "cell_type": "markdown",
      "metadata": {
        "id": "A8RhdQDvVfqs"
      },
      "source": [
        "### 2.3.x Stacked survival stats"
      ]
    },
    {
      "cell_type": "code",
      "metadata": {
        "colab": {
          "base_uri": "https://localhost:8080/",
          "height": 321
        },
        "id": "WovSffgL9T_i",
        "outputId": "49e21e53-e65b-48c9-d25b-a7b08451183e"
      },
      "source": [
        "df = pd.DataFrame(pd.concat([df_train, y_train], axis = 1).groupby(\"sex\")['survived'].value_counts())\n",
        "df = df.rename(columns={'survived':'count'}).pivot_table(index = 'sex', values = 'count', columns = 'survived').reset_index()\n",
        "df.plot(kind = \"bar\", stacked = True, x = 'sex')"
      ],
      "execution_count": 14,
      "outputs": [
        {
          "output_type": "execute_result",
          "data": {
            "text/plain": [
              "<matplotlib.axes._subplots.AxesSubplot at 0x7fc770168810>"
            ]
          },
          "metadata": {
            "tags": []
          },
          "execution_count": 14
        },
        {
          "output_type": "display_data",
          "data": {
            "image/png": "[encoded data removed]",
            "text/plain": [
              "<Figure size 432x288 with 1 Axes>"
            ]
          },
          "metadata": {
            "tags": [],
            "needs_background": "light"
          }
        }
      ]
    },
    {
      "cell_type": "markdown",
      "metadata": {
        "id": "quFUCczBVpP9"
      },
      "source": [
        "## 2.4 Embarked Town"
      ]
    },
    {
      "cell_type": "markdown",
      "metadata": {
        "id": "YmdQJnvocvsg"
      },
      "source": [
        "### 2.4.1 Unique values"
      ]
    },
    {
      "cell_type": "code",
      "metadata": {
        "colab": {
          "base_uri": "https://localhost:8080/"
        },
        "id": "mSQzhia5VpDT",
        "outputId": "8d2bb3bc-6c94-485d-bbff-f06e8483f5d4"
      },
      "source": [
        "[val for val in df_train['embark_town'].unique()]"
      ],
      "execution_count": 15,
      "outputs": [
        {
          "output_type": "execute_result",
          "data": {
            "text/plain": [
              "['Southampton', 'Cherbourg', 'Queenstown', 'unknown']"
            ]
          },
          "metadata": {
            "tags": []
          },
          "execution_count": 15
        }
      ]
    },
    {
      "cell_type": "markdown",
      "metadata": {
        "id": "Pz22_jpcVrl2"
      },
      "source": [
        "### 2.4.x Stacked survival stats"
      ]
    },
    {
      "cell_type": "code",
      "metadata": {
        "colab": {
          "base_uri": "https://localhost:8080/",
          "height": 354
        },
        "id": "EJsOrI8_DaPs",
        "outputId": "ef67984a-6b31-4a26-e262-81cd0229483f"
      },
      "source": [
        "df = pd.DataFrame(pd.concat([df_train, y_train], axis = 1).groupby(\"embark_town\")['survived'].value_counts())\n",
        "df = df.rename(columns={'survived':'count'}).pivot_table(index = 'embark_town', values = 'count', columns = 'survived').reset_index()\n",
        "df.plot(kind = \"bar\", stacked = True, x = 'embark_town')"
      ],
      "execution_count": 16,
      "outputs": [
        {
          "output_type": "execute_result",
          "data": {
            "text/plain": [
              "<matplotlib.axes._subplots.AxesSubplot at 0x7fc770101850>"
            ]
          },
          "metadata": {
            "tags": []
          },
          "execution_count": 16
        },
        {
          "output_type": "display_data",
          "data": {
            "image/png": "[encoded data removed]",
            "text/plain": [
              "<Figure size 432x288 with 1 Axes>"
            ]
          },
          "metadata": {
            "tags": [],
            "needs_background": "light"
          }
        }
      ]
    },
    {
      "cell_type": "markdown",
      "metadata": {
        "id": "hwEDu0m1WTIM"
      },
      "source": [
        "## 2.5 Deck "
      ]
    },
    {
      "cell_type": "code",
      "metadata": {
        "id": "Nv2Ab0BJWS-B"
      },
      "source": [
        ""
      ],
      "execution_count": 16,
      "outputs": []
    },
    {
      "cell_type": "markdown",
      "metadata": {
        "id": "XQqcb161WS00"
      },
      "source": [
        "### 2.5.x Stacked survival stats"
      ]
    },
    {
      "cell_type": "code",
      "metadata": {
        "colab": {
          "base_uri": "https://localhost:8080/",
          "height": 334
        },
        "id": "uMew1udXDsMZ",
        "outputId": "71c9ccc6-2469-43bf-ecb3-45af67bef134"
      },
      "source": [
        "df = pd.DataFrame(pd.concat([df_train, y_train], axis = 1).groupby(\"deck\")['survived'].value_counts())\n",
        "df = df.rename(columns={'survived':'count'}).pivot_table(index = 'deck', values = 'count', columns = 'survived').reset_index()\n",
        "df.plot(kind = \"bar\", stacked = True, x = 'deck')"
      ],
      "execution_count": 17,
      "outputs": [
        {
          "output_type": "execute_result",
          "data": {
            "text/plain": [
              "<matplotlib.axes._subplots.AxesSubplot at 0x7fc770077b90>"
            ]
          },
          "metadata": {
            "tags": []
          },
          "execution_count": 17
        },
        {
          "output_type": "display_data",
          "data": {
            "image/png": "[encoded data removed]",
            "text/plain": [
              "<Figure size 432x288 with 1 Axes>"
            ]
          },
          "metadata": {
            "tags": [],
            "needs_background": "light"
          }
        }
      ]
    },
    {
      "cell_type": "markdown",
      "metadata": {
        "id": "fVySGDBVWgjV"
      },
      "source": [
        "## 2.6 Parch"
      ]
    },
    {
      "cell_type": "markdown",
      "metadata": {
        "id": "WltVVd_UcMJD"
      },
      "source": [
        "### 2.6.1 Unique values"
      ]
    },
    {
      "cell_type": "code",
      "metadata": {
        "colab": {
          "base_uri": "https://localhost:8080/"
        },
        "id": "gjYBAXSmIj1h",
        "outputId": "66051688-a61e-4c79-c842-4d0d2e25bc79"
      },
      "source": [
        "[val for val in df_train['parch'].unique()]"
      ],
      "execution_count": 18,
      "outputs": [
        {
          "output_type": "execute_result",
          "data": {
            "text/plain": [
              "[0, 1, 2, 5, 3, 4]"
            ]
          },
          "metadata": {
            "tags": []
          },
          "execution_count": 18
        }
      ]
    },
    {
      "cell_type": "code",
      "metadata": {
        "id": "XiwUXq3tXGQF"
      },
      "source": [
        ""
      ],
      "execution_count": 18,
      "outputs": []
    },
    {
      "cell_type": "markdown",
      "metadata": {
        "id": "DZPEONF3XF_c"
      },
      "source": [
        "### 2.6.x Stacked survival stats"
      ]
    },
    {
      "cell_type": "code",
      "metadata": {
        "colab": {
          "base_uri": "https://localhost:8080/",
          "height": 293
        },
        "id": "ZwXi1ePtIk9q",
        "outputId": "c7785dbb-cbaf-4a67-f3ac-94271f7715ab"
      },
      "source": [
        "df = pd.DataFrame(pd.concat([df_train, y_train], axis = 1).groupby(\"parch\")['survived'].value_counts())\n",
        "df = df.rename(columns={'survived':'count'}).pivot_table(index = 'parch', values = 'count', columns = 'survived').reset_index()\n",
        "df.plot(kind = \"bar\", stacked = True, x = 'parch')"
      ],
      "execution_count": 19,
      "outputs": [
        {
          "output_type": "execute_result",
          "data": {
            "text/plain": [
              "<matplotlib.axes._subplots.AxesSubplot at 0x7fc770087b90>"
            ]
          },
          "metadata": {
            "tags": []
          },
          "execution_count": 19
        },
        {
          "output_type": "display_data",
          "data": {
            "image/png": "[encoded data removed]",
            "text/plain": [
              "<Figure size 432x288 with 1 Axes>"
            ]
          },
          "metadata": {
            "tags": [],
            "needs_background": "light"
          }
        }
      ]
    },
    {
      "cell_type": "markdown",
      "metadata": {
        "id": "6-p8CknBZnwy"
      },
      "source": [
        "## 2.7 Fare"
      ]
    },
    {
      "cell_type": "code",
      "metadata": {
        "id": "7M_J-nxoZoLz"
      },
      "source": [
        ""
      ],
      "execution_count": 19,
      "outputs": []
    },
    {
      "cell_type": "markdown",
      "metadata": {
        "id": "y3XVLYFCZnfq"
      },
      "source": [
        "### 2.7.1 Stacked survival status"
      ]
    },
    {
      "cell_type": "code",
      "metadata": {
        "colab": {
          "base_uri": "https://localhost:8080/",
          "height": 279
        },
        "id": "NxrOoxxgD7Rr",
        "outputId": "4d68df8f-a88e-4f47-d9b8-b280216def69"
      },
      "source": [
        "df = pd.DataFrame(pd.concat([df_train, y_train], axis = 1).groupby(\"survived\")['fare'].mean())\n",
        "df = df.rename(columns={'fare':'mean'}).pivot_table(values = 'mean', columns = 'survived').reset_index(drop = True)\n",
        "df.plot(kind = \"bar\", stacked = False)"
      ],
      "execution_count": 20,
      "outputs": [
        {
          "output_type": "execute_result",
          "data": {
            "text/plain": [
              "<matplotlib.axes._subplots.AxesSubplot at 0x7fc76ff37910>"
            ]
          },
          "metadata": {
            "tags": []
          },
          "execution_count": 20
        },
        {
          "output_type": "display_data",
          "data": {
            "image/png": "[encoded data removed]",
            "text/plain": [
              "<Figure size 432x288 with 1 Axes>"
            ]
          },
          "metadata": {
            "tags": [],
            "needs_background": "light"
          }
        }
      ]
    },
    {
      "cell_type": "markdown",
      "metadata": {
        "id": "Z0SPjmEFaqtx"
      },
      "source": [
        "## 2.8 Age"
      ]
    },
    {
      "cell_type": "code",
      "metadata": {
        "id": "e0K_goQVaqkC"
      },
      "source": [
        ""
      ],
      "execution_count": 20,
      "outputs": []
    },
    {
      "cell_type": "markdown",
      "metadata": {
        "id": "0a9AgqR-aqaT"
      },
      "source": [
        "### 2.8.1 Stacked survival stats"
      ]
    },
    {
      "cell_type": "code",
      "metadata": {
        "colab": {
          "base_uri": "https://localhost:8080/",
          "height": 279
        },
        "id": "_NRF9a8jFEhT",
        "outputId": "8f16a23e-abf9-485f-bbc1-37930dc4061b"
      },
      "source": [
        "df = pd.DataFrame(pd.concat([df_train, y_train], axis = 1).groupby(\"survived\")['age'].median())\n",
        "df = df.rename(columns={'age':'median'}).pivot_table(values = 'median', columns = 'survived').reset_index(drop = True)\n",
        "df.plot(kind = \"bar\", stacked = False)"
      ],
      "execution_count": 21,
      "outputs": [
        {
          "output_type": "execute_result",
          "data": {
            "text/plain": [
              "<matplotlib.axes._subplots.AxesSubplot at 0x7fc76fe9ea50>"
            ]
          },
          "metadata": {
            "tags": []
          },
          "execution_count": 21
        },
        {
          "output_type": "display_data",
          "data": {
            "image/png": "[encoded data removed]",
            "text/plain": [
              "<Figure size 432x288 with 1 Axes>"
            ]
          },
          "metadata": {
            "tags": [],
            "needs_background": "light"
          }
        }
      ]
    },
    {
      "cell_type": "code",
      "metadata": {
        "id": "QMYZPgT2IVaR"
      },
      "source": [
        ""
      ],
      "execution_count": 21,
      "outputs": []
    }
  ]
}