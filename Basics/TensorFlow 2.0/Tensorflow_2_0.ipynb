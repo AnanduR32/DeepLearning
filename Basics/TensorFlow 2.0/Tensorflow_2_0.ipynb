{
  "nbformat": 4,
  "nbformat_minor": 0,
  "metadata": {
    "colab": {
      "name": "Tensorflow 2.0",
      "provenance": [],
      "collapsed_sections": [],
      "toc_visible": true
    },
    "kernelspec": {
      "display_name": "Python 3",
      "name": "python3"
    }
  },
  "cells": [
    {
      "cell_type": "code",
      "metadata": {
        "id": "jF_2A3XFWkLn"
      },
      "source": [
        "%tensorflow_version 2.x\n",
        "import tensorflow as tf\n",
        "import pandas as pd\n",
        "import numpy as np\n",
        "\n",
        "import matplotlib.pyplot as plt\n",
        "%matplotlib inline"
      ],
      "execution_count": 1,
      "outputs": []
    },
    {
      "cell_type": "code",
      "metadata": {
        "colab": {
          "base_uri": "https://localhost:8080/"
        },
        "id": "YRaJLoEOWmMA",
        "outputId": "3cf98a2a-44c0-4e2e-ef32-e4691633a471"
      },
      "source": [
        "print(tf.__version__)"
      ],
      "execution_count": 2,
      "outputs": [
        {
          "output_type": "stream",
          "text": [
            "2.5.0\n"
          ],
          "name": "stdout"
        }
      ]
    },
    {
      "cell_type": "markdown",
      "metadata": {
        "id": "fsbF7TWLaK0I"
      },
      "source": [
        "**Tensors** are the basic building blocks of tensorflow, it represents graphs that can produce it's own individual outputs, there can be numerous tensors that exists for a model, and when a session runs a series of tensors produces outputs up till the final result of the model.   \n",
        "\n",
        "Tensors can have ranks, a rank 1 tensor represents a vector whereas a rank 2 and above represent matrices, but unlike those in numpy arrays these tensors can have varying datatypes. \n",
        "\n",
        "They can be of 4 types:\n",
        "* Variable  \n",
        "* Constant  \n",
        "* Placeholder  \n",
        "* SparseTensor  \n",
        "\n",
        "And can be created as below: \n",
        "\n"
      ]
    },
    {
      "cell_type": "code",
      "metadata": {
        "id": "f7SDeSfAW2f8"
      },
      "source": [
        "rank1_tensor = tf.Variable(['My','Name','is','Anandu'], tf.string)\n",
        "rank2_tensor = tf.Variable([['Anandu R','Software Engineer','SOTI'],['Aishwarya Michael','Software Engineer','Infosys']])"
      ],
      "execution_count": 3,
      "outputs": []
    },
    {
      "cell_type": "code",
      "metadata": {
        "colab": {
          "base_uri": "https://localhost:8080/"
        },
        "id": "FsBNyAr5a3gJ",
        "outputId": "a20b9877-2c47-4d4d-80e5-1381f1d25eba"
      },
      "source": [
        "print(f'\\nTensor 1: \\n\\tRank: {tf.rank(rank1_tensor)}\\n\\tShape: {rank1_tensor.shape}')\n",
        "print(f'\\nTensor 2: \\n\\tRank: {tf.rank(rank2_tensor)}\\n\\tShape: {rank2_tensor.shape}')"
      ],
      "execution_count": 4,
      "outputs": [
        {
          "output_type": "stream",
          "text": [
            "\n",
            "Tensor 1: \n",
            "\tRank: 1\n",
            "\tShape: (4,)\n",
            "\n",
            "Tensor 2: \n",
            "\tRank: 2\n",
            "\tShape: (2, 3)\n"
          ],
          "name": "stdout"
        }
      ]
    },
    {
      "cell_type": "markdown",
      "metadata": {
        "id": "hePjeUDUgmx9"
      },
      "source": [
        "Reshaping tensors"
      ]
    },
    {
      "cell_type": "code",
      "metadata": {
        "colab": {
          "base_uri": "https://localhost:8080/"
        },
        "id": "OkDKnA34ewcq",
        "outputId": "90556b65-bf3a-44bf-8008-aa68d7100dd5"
      },
      "source": [
        "tf.reshape(rank2_tensor, (3,2))"
      ],
      "execution_count": 5,
      "outputs": [
        {
          "output_type": "execute_result",
          "data": {
            "text/plain": [
              "<tf.Tensor: shape=(3, 2), dtype=string, numpy=\n",
              "array([[b'Anandu R', b'Software Engineer'],\n",
              "       [b'SOTI', b'Aishwarya Michael'],\n",
              "       [b'Software Engineer', b'Infosys']], dtype=object)>"
            ]
          },
          "metadata": {
            "tags": []
          },
          "execution_count": 5
        }
      ]
    },
    {
      "cell_type": "markdown",
      "metadata": {
        "id": "SNY1hnSDh6Nc"
      },
      "source": [
        "# Linear regression"
      ]
    },
    {
      "cell_type": "code",
      "metadata": {
        "id": "Q-11N2a9ihLr"
      },
      "source": [
        ""
      ],
      "execution_count": 5,
      "outputs": []
    },
    {
      "cell_type": "code",
      "metadata": {
        "id": "IhEZ5wjDihCO"
      },
      "source": [
        ""
      ],
      "execution_count": 5,
      "outputs": []
    }
  ]
}