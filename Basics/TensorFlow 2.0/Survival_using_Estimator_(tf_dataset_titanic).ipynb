{
  "nbformat": 4,
  "nbformat_minor": 0,
  "metadata": {
    "colab": {
      "name": "Survival using Estimator (tf-dataset/titanic)",
      "provenance": [],
      "collapsed_sections": [],
      "toc_visible": true
    },
    "kernelspec": {
      "display_name": "Python 3",
      "name": "python3"
    }
  },
  "cells": [
    {
      "cell_type": "code",
      "metadata": {
        "id": "oauLq-B8z_n8"
      },
      "source": [
        "!pip install -q sklearn"
      ],
      "execution_count": 1,
      "outputs": []
    },
    {
      "cell_type": "code",
      "metadata": {
        "id": "jF_2A3XFWkLn"
      },
      "source": [
        "%tensorflow_version 2.x\n",
        "import tensorflow.compat.v2.feature_column as fc\n",
        "import tensorflow.compat.v1.saved_model as saved_model\n",
        "import tensorflow as tf\n",
        "\n",
        "from sklearn.preprocessing import OneHotEncoder\n",
        "\n",
        "from __future__ import absolute_import, division, print_function, unicode_literals\n",
        "from IPython.display import clear_output\n",
        "from six.moves import urllib\n",
        "from copy import deepcopy\n",
        "\n",
        "import pandas as pd\n",
        "import numpy as np\n",
        "import matplotlib.pyplot as plt\n",
        "%matplotlib inline"
      ],
      "execution_count": 2,
      "outputs": []
    },
    {
      "cell_type": "code",
      "metadata": {
        "colab": {
          "base_uri": "https://localhost:8080/"
        },
        "id": "YRaJLoEOWmMA",
        "outputId": "4f8f6baf-2d49-43b7-ca9b-2a4e6a5efad2"
      },
      "source": [
        "tf.random.set_seed(197)\n",
        "print(tf.__version__)"
      ],
      "execution_count": 3,
      "outputs": [
        {
          "output_type": "stream",
          "text": [
            "2.5.0\n"
          ],
          "name": "stdout"
        }
      ]
    },
    {
      "cell_type": "markdown",
      "metadata": {
        "id": "SNY1hnSDh6Nc"
      },
      "source": [
        "# Data Analysis\n",
        "\n",
        "**Linear analysis**: For linearly correlated datapoints in $\\mathit{R^{n}}$ space"
      ]
    },
    {
      "cell_type": "markdown",
      "metadata": {
        "id": "8ui1PHtRo4X4"
      },
      "source": [
        "## Loading the data"
      ]
    },
    {
      "cell_type": "code",
      "metadata": {
        "id": "Q-11N2a9ihLr"
      },
      "source": [
        "df_train = pd.read_csv(\"https://storage.googleapis.com/tf-datasets/titanic/train.csv\")\n",
        "df_eval = pd.read_csv(\"https://storage.googleapis.com/tf-datasets/titanic/eval.csv\")"
      ],
      "execution_count": 4,
      "outputs": []
    },
    {
      "cell_type": "code",
      "metadata": {
        "id": "4td9QbGHdukg"
      },
      "source": [
        "y_train = df_train[\"survived\"]\n",
        "y_eval = df_eval[\"survived\"]"
      ],
      "execution_count": 5,
      "outputs": []
    },
    {
      "cell_type": "code",
      "metadata": {
        "id": "2UCOFv0k687S"
      },
      "source": [
        "df_train_bak = deepcopy(df_train)"
      ],
      "execution_count": 6,
      "outputs": []
    },
    {
      "cell_type": "markdown",
      "metadata": {
        "id": "50SC2MMjq1Pn"
      },
      "source": [
        "## Preliminary Descriptive analysis"
      ]
    },
    {
      "cell_type": "code",
      "metadata": {
        "id": "IhEZ5wjDihCO",
        "colab": {
          "base_uri": "https://localhost:8080/",
          "height": 234
        },
        "outputId": "b636f575-1592-4a99-d29a-66aa569ada66"
      },
      "source": [
        "df_train.head(6)"
      ],
      "execution_count": 7,
      "outputs": [
        {
          "output_type": "execute_result",
          "data": {
            "text/html": [
              "<div>\n",
              "<style scoped>\n",
              "    .dataframe tbody tr th:only-of-type {\n",
              "        vertical-align: middle;\n",
              "    }\n",
              "\n",
              "    .dataframe tbody tr th {\n",
              "        vertical-align: top;\n",
              "    }\n",
              "\n",
              "    .dataframe thead th {\n",
              "        text-align: right;\n",
              "    }\n",
              "</style>\n",
              "<table border=\"1\" class=\"dataframe\">\n",
              "  <thead>\n",
              "    <tr style=\"text-align: right;\">\n",
              "      <th></th>\n",
              "      <th>survived</th>\n",
              "      <th>sex</th>\n",
              "      <th>age</th>\n",
              "      <th>n_siblings_spouses</th>\n",
              "      <th>parch</th>\n",
              "      <th>fare</th>\n",
              "      <th>class</th>\n",
              "      <th>deck</th>\n",
              "      <th>embark_town</th>\n",
              "      <th>alone</th>\n",
              "    </tr>\n",
              "  </thead>\n",
              "  <tbody>\n",
              "    <tr>\n",
              "      <th>0</th>\n",
              "      <td>0</td>\n",
              "      <td>male</td>\n",
              "      <td>22.0</td>\n",
              "      <td>1</td>\n",
              "      <td>0</td>\n",
              "      <td>7.2500</td>\n",
              "      <td>Third</td>\n",
              "      <td>unknown</td>\n",
              "      <td>Southampton</td>\n",
              "      <td>n</td>\n",
              "    </tr>\n",
              "    <tr>\n",
              "      <th>1</th>\n",
              "      <td>1</td>\n",
              "      <td>female</td>\n",
              "      <td>38.0</td>\n",
              "      <td>1</td>\n",
              "      <td>0</td>\n",
              "      <td>71.2833</td>\n",
              "      <td>First</td>\n",
              "      <td>C</td>\n",
              "      <td>Cherbourg</td>\n",
              "      <td>n</td>\n",
              "    </tr>\n",
              "    <tr>\n",
              "      <th>2</th>\n",
              "      <td>1</td>\n",
              "      <td>female</td>\n",
              "      <td>26.0</td>\n",
              "      <td>0</td>\n",
              "      <td>0</td>\n",
              "      <td>7.9250</td>\n",
              "      <td>Third</td>\n",
              "      <td>unknown</td>\n",
              "      <td>Southampton</td>\n",
              "      <td>y</td>\n",
              "    </tr>\n",
              "    <tr>\n",
              "      <th>3</th>\n",
              "      <td>1</td>\n",
              "      <td>female</td>\n",
              "      <td>35.0</td>\n",
              "      <td>1</td>\n",
              "      <td>0</td>\n",
              "      <td>53.1000</td>\n",
              "      <td>First</td>\n",
              "      <td>C</td>\n",
              "      <td>Southampton</td>\n",
              "      <td>n</td>\n",
              "    </tr>\n",
              "    <tr>\n",
              "      <th>4</th>\n",
              "      <td>0</td>\n",
              "      <td>male</td>\n",
              "      <td>28.0</td>\n",
              "      <td>0</td>\n",
              "      <td>0</td>\n",
              "      <td>8.4583</td>\n",
              "      <td>Third</td>\n",
              "      <td>unknown</td>\n",
              "      <td>Queenstown</td>\n",
              "      <td>y</td>\n",
              "    </tr>\n",
              "    <tr>\n",
              "      <th>5</th>\n",
              "      <td>0</td>\n",
              "      <td>male</td>\n",
              "      <td>2.0</td>\n",
              "      <td>3</td>\n",
              "      <td>1</td>\n",
              "      <td>21.0750</td>\n",
              "      <td>Third</td>\n",
              "      <td>unknown</td>\n",
              "      <td>Southampton</td>\n",
              "      <td>n</td>\n",
              "    </tr>\n",
              "  </tbody>\n",
              "</table>\n",
              "</div>"
            ],
            "text/plain": [
              "   survived     sex   age  ...     deck  embark_town  alone\n",
              "0         0    male  22.0  ...  unknown  Southampton      n\n",
              "1         1  female  38.0  ...        C    Cherbourg      n\n",
              "2         1  female  26.0  ...  unknown  Southampton      y\n",
              "3         1  female  35.0  ...        C  Southampton      n\n",
              "4         0    male  28.0  ...  unknown   Queenstown      y\n",
              "5         0    male   2.0  ...  unknown  Southampton      n\n",
              "\n",
              "[6 rows x 10 columns]"
            ]
          },
          "metadata": {
            "tags": []
          },
          "execution_count": 7
        }
      ]
    },
    {
      "cell_type": "code",
      "metadata": {
        "colab": {
          "base_uri": "https://localhost:8080/",
          "height": 295
        },
        "id": "m3kvE7phq7QK",
        "outputId": "6b40f6c7-410e-4e5f-f757-0a989f9b5e28"
      },
      "source": [
        "df_train.describe()"
      ],
      "execution_count": 8,
      "outputs": [
        {
          "output_type": "execute_result",
          "data": {
            "text/html": [
              "<div>\n",
              "<style scoped>\n",
              "    .dataframe tbody tr th:only-of-type {\n",
              "        vertical-align: middle;\n",
              "    }\n",
              "\n",
              "    .dataframe tbody tr th {\n",
              "        vertical-align: top;\n",
              "    }\n",
              "\n",
              "    .dataframe thead th {\n",
              "        text-align: right;\n",
              "    }\n",
              "</style>\n",
              "<table border=\"1\" class=\"dataframe\">\n",
              "  <thead>\n",
              "    <tr style=\"text-align: right;\">\n",
              "      <th></th>\n",
              "      <th>survived</th>\n",
              "      <th>age</th>\n",
              "      <th>n_siblings_spouses</th>\n",
              "      <th>parch</th>\n",
              "      <th>fare</th>\n",
              "    </tr>\n",
              "  </thead>\n",
              "  <tbody>\n",
              "    <tr>\n",
              "      <th>count</th>\n",
              "      <td>627.000000</td>\n",
              "      <td>627.000000</td>\n",
              "      <td>627.000000</td>\n",
              "      <td>627.000000</td>\n",
              "      <td>627.000000</td>\n",
              "    </tr>\n",
              "    <tr>\n",
              "      <th>mean</th>\n",
              "      <td>0.387560</td>\n",
              "      <td>29.631308</td>\n",
              "      <td>0.545455</td>\n",
              "      <td>0.379585</td>\n",
              "      <td>34.385399</td>\n",
              "    </tr>\n",
              "    <tr>\n",
              "      <th>std</th>\n",
              "      <td>0.487582</td>\n",
              "      <td>12.511818</td>\n",
              "      <td>1.151090</td>\n",
              "      <td>0.792999</td>\n",
              "      <td>54.597730</td>\n",
              "    </tr>\n",
              "    <tr>\n",
              "      <th>min</th>\n",
              "      <td>0.000000</td>\n",
              "      <td>0.750000</td>\n",
              "      <td>0.000000</td>\n",
              "      <td>0.000000</td>\n",
              "      <td>0.000000</td>\n",
              "    </tr>\n",
              "    <tr>\n",
              "      <th>25%</th>\n",
              "      <td>0.000000</td>\n",
              "      <td>23.000000</td>\n",
              "      <td>0.000000</td>\n",
              "      <td>0.000000</td>\n",
              "      <td>7.895800</td>\n",
              "    </tr>\n",
              "    <tr>\n",
              "      <th>50%</th>\n",
              "      <td>0.000000</td>\n",
              "      <td>28.000000</td>\n",
              "      <td>0.000000</td>\n",
              "      <td>0.000000</td>\n",
              "      <td>15.045800</td>\n",
              "    </tr>\n",
              "    <tr>\n",
              "      <th>75%</th>\n",
              "      <td>1.000000</td>\n",
              "      <td>35.000000</td>\n",
              "      <td>1.000000</td>\n",
              "      <td>0.000000</td>\n",
              "      <td>31.387500</td>\n",
              "    </tr>\n",
              "    <tr>\n",
              "      <th>max</th>\n",
              "      <td>1.000000</td>\n",
              "      <td>80.000000</td>\n",
              "      <td>8.000000</td>\n",
              "      <td>5.000000</td>\n",
              "      <td>512.329200</td>\n",
              "    </tr>\n",
              "  </tbody>\n",
              "</table>\n",
              "</div>"
            ],
            "text/plain": [
              "         survived         age  n_siblings_spouses       parch        fare\n",
              "count  627.000000  627.000000          627.000000  627.000000  627.000000\n",
              "mean     0.387560   29.631308            0.545455    0.379585   34.385399\n",
              "std      0.487582   12.511818            1.151090    0.792999   54.597730\n",
              "min      0.000000    0.750000            0.000000    0.000000    0.000000\n",
              "25%      0.000000   23.000000            0.000000    0.000000    7.895800\n",
              "50%      0.000000   28.000000            0.000000    0.000000   15.045800\n",
              "75%      1.000000   35.000000            1.000000    0.000000   31.387500\n",
              "max      1.000000   80.000000            8.000000    5.000000  512.329200"
            ]
          },
          "metadata": {
            "tags": []
          },
          "execution_count": 8
        }
      ]
    },
    {
      "cell_type": "code",
      "metadata": {
        "colab": {
          "base_uri": "https://localhost:8080/",
          "height": 172
        },
        "id": "4ZMa91wFxAwV",
        "outputId": "9974befd-6541-432c-e12d-d0db1e3cd23a"
      },
      "source": [
        "df_train.describe(include='object')"
      ],
      "execution_count": 9,
      "outputs": [
        {
          "output_type": "execute_result",
          "data": {
            "text/html": [
              "<div>\n",
              "<style scoped>\n",
              "    .dataframe tbody tr th:only-of-type {\n",
              "        vertical-align: middle;\n",
              "    }\n",
              "\n",
              "    .dataframe tbody tr th {\n",
              "        vertical-align: top;\n",
              "    }\n",
              "\n",
              "    .dataframe thead th {\n",
              "        text-align: right;\n",
              "    }\n",
              "</style>\n",
              "<table border=\"1\" class=\"dataframe\">\n",
              "  <thead>\n",
              "    <tr style=\"text-align: right;\">\n",
              "      <th></th>\n",
              "      <th>sex</th>\n",
              "      <th>class</th>\n",
              "      <th>deck</th>\n",
              "      <th>embark_town</th>\n",
              "      <th>alone</th>\n",
              "    </tr>\n",
              "  </thead>\n",
              "  <tbody>\n",
              "    <tr>\n",
              "      <th>count</th>\n",
              "      <td>627</td>\n",
              "      <td>627</td>\n",
              "      <td>627</td>\n",
              "      <td>627</td>\n",
              "      <td>627</td>\n",
              "    </tr>\n",
              "    <tr>\n",
              "      <th>unique</th>\n",
              "      <td>2</td>\n",
              "      <td>3</td>\n",
              "      <td>8</td>\n",
              "      <td>4</td>\n",
              "      <td>2</td>\n",
              "    </tr>\n",
              "    <tr>\n",
              "      <th>top</th>\n",
              "      <td>male</td>\n",
              "      <td>Third</td>\n",
              "      <td>unknown</td>\n",
              "      <td>Southampton</td>\n",
              "      <td>y</td>\n",
              "    </tr>\n",
              "    <tr>\n",
              "      <th>freq</th>\n",
              "      <td>410</td>\n",
              "      <td>341</td>\n",
              "      <td>481</td>\n",
              "      <td>450</td>\n",
              "      <td>372</td>\n",
              "    </tr>\n",
              "  </tbody>\n",
              "</table>\n",
              "</div>"
            ],
            "text/plain": [
              "         sex  class     deck  embark_town alone\n",
              "count    627    627      627          627   627\n",
              "unique     2      3        8            4     2\n",
              "top     male  Third  unknown  Southampton     y\n",
              "freq     410    341      481          450   372"
            ]
          },
          "metadata": {
            "tags": []
          },
          "execution_count": 9
        }
      ]
    },
    {
      "cell_type": "code",
      "metadata": {
        "colab": {
          "base_uri": "https://localhost:8080/"
        },
        "id": "AeI-GpaLmKxo",
        "outputId": "20eec999-d676-454f-ebc3-05345bb0c5bc"
      },
      "source": [
        "df_train.shape"
      ],
      "execution_count": 10,
      "outputs": [
        {
          "output_type": "execute_result",
          "data": {
            "text/plain": [
              "(627, 10)"
            ]
          },
          "metadata": {
            "tags": []
          },
          "execution_count": 10
        }
      ]
    },
    {
      "cell_type": "markdown",
      "metadata": {
        "id": "ho1ru_bKpHXZ"
      },
      "source": [
        "## Exploratory analysis"
      ]
    },
    {
      "cell_type": "code",
      "metadata": {
        "colab": {
          "base_uri": "https://localhost:8080/"
        },
        "id": "1Wk7wQwxzJnR",
        "outputId": "1a60c6b8-e2d0-47b1-d4eb-bee3cd2dfc27"
      },
      "source": [
        "unique_survived = [val for val in y_train.unique()]\n",
        "unique_survived"
      ],
      "execution_count": 11,
      "outputs": [
        {
          "output_type": "execute_result",
          "data": {
            "text/plain": [
              "[0, 1]"
            ]
          },
          "metadata": {
            "tags": []
          },
          "execution_count": 11
        }
      ]
    },
    {
      "cell_type": "markdown",
      "metadata": {
        "id": "0J08nFhKbS1M"
      },
      "source": [
        "### 1 class"
      ]
    },
    {
      "cell_type": "markdown",
      "metadata": {
        "id": "uRvqDR-dcRzj"
      },
      "source": [
        "#### 1.1 Unique values"
      ]
    },
    {
      "cell_type": "code",
      "metadata": {
        "colab": {
          "base_uri": "https://localhost:8080/"
        },
        "id": "LU5URho2bjIV",
        "outputId": "e3bebef0-48c5-4a72-ac6a-94132cd3925c"
      },
      "source": [
        "unique_class = [val for val in df_train['class'].unique()]\n",
        "unique_class"
      ],
      "execution_count": 12,
      "outputs": [
        {
          "output_type": "execute_result",
          "data": {
            "text/plain": [
              "['Third', 'First', 'Second']"
            ]
          },
          "metadata": {
            "tags": []
          },
          "execution_count": 12
        }
      ]
    },
    {
      "cell_type": "markdown",
      "metadata": {
        "id": "pF2RFIhuEJPq"
      },
      "source": [
        "#### 1.2 Distribution"
      ]
    },
    {
      "cell_type": "code",
      "metadata": {
        "colab": {
          "base_uri": "https://localhost:8080/",
          "height": 309
        },
        "id": "kNxeVTtuEJp8",
        "outputId": "b0bf8891-51fc-4f63-f6e8-6c512e4e451a"
      },
      "source": [
        "df_train['class'].value_counts().plot(kind = 'bar')"
      ],
      "execution_count": 13,
      "outputs": [
        {
          "output_type": "execute_result",
          "data": {
            "text/plain": [
              "<matplotlib.axes._subplots.AxesSubplot at 0x7f25585c79d0>"
            ]
          },
          "metadata": {
            "tags": []
          },
          "execution_count": 13
        },
        {
          "output_type": "display_data",
          "data": {
            "image/png": "[encoded data removed]",
            "text/plain": [
              "<Figure size 432x288 with 1 Axes>"
            ]
          },
          "metadata": {
            "tags": [],
            "needs_background": "light"
          }
        }
      ]
    },
    {
      "cell_type": "markdown",
      "metadata": {
        "id": "nhvp3zU5NzHa"
      },
      "source": [
        "#### 1.3 Stacked survival stats"
      ]
    },
    {
      "cell_type": "code",
      "metadata": {
        "id": "HefkCuH42FAH",
        "colab": {
          "base_uri": "https://localhost:8080/",
          "height": 323
        },
        "outputId": "7daf5af8-1edb-4f5a-e189-e1a821804185"
      },
      "source": [
        "df = pd.DataFrame(df_train.groupby(\"class\")['survived'].value_counts())\n",
        "df = df.rename(columns={'survived':'count'}).pivot_table(index = 'class', values = 'count', columns = 'survived').reset_index()\n",
        "df.plot(kind = \"bar\", stacked = True, x = 'class')"
      ],
      "execution_count": 14,
      "outputs": [
        {
          "output_type": "execute_result",
          "data": {
            "text/plain": [
              "<matplotlib.axes._subplots.AxesSubplot at 0x7f25584a5310>"
            ]
          },
          "metadata": {
            "tags": []
          },
          "execution_count": 14
        },
        {
          "output_type": "display_data",
          "data": {
            "image/png": "[encoded data removed]",
            "text/plain": [
              "<Figure size 432x288 with 1 Axes>"
            ]
          },
          "metadata": {
            "tags": [],
            "needs_background": "light"
          }
        }
      ]
    },
    {
      "cell_type": "markdown",
      "metadata": {
        "id": "KoSbVVF4R9hJ"
      },
      "source": [
        "### 2 Alone"
      ]
    },
    {
      "cell_type": "markdown",
      "metadata": {
        "id": "E-IcqcqYcnOo"
      },
      "source": [
        "#### 2.1 Unique Values"
      ]
    },
    {
      "cell_type": "code",
      "metadata": {
        "id": "a259TniNVnM9",
        "colab": {
          "base_uri": "https://localhost:8080/"
        },
        "outputId": "e9a4bd85-55fe-4987-ee5d-5c1b8a236f1d"
      },
      "source": [
        "unique_alone = [val for val in df_train['alone'].unique()]\n",
        "unique_alone"
      ],
      "execution_count": 15,
      "outputs": [
        {
          "output_type": "execute_result",
          "data": {
            "text/plain": [
              "['n', 'y']"
            ]
          },
          "metadata": {
            "tags": []
          },
          "execution_count": 15
        }
      ]
    },
    {
      "cell_type": "markdown",
      "metadata": {
        "id": "KyRuX4KNSIny"
      },
      "source": [
        "#### 2.2 Stacked survival stats"
      ]
    },
    {
      "cell_type": "code",
      "metadata": {
        "id": "B-y1ffYp2Sve",
        "colab": {
          "base_uri": "https://localhost:8080/",
          "height": 293
        },
        "outputId": "7986d053-808c-4092-cb41-bde93961364c"
      },
      "source": [
        "df = pd.DataFrame(df_train.groupby(\"alone\")['survived'].value_counts())\n",
        "df = df.rename(columns={'survived':'count'}).pivot_table(index = 'alone', values = 'count', columns = 'survived').reset_index()\n",
        "df.plot(kind = \"bar\", stacked = True, x = 'alone')"
      ],
      "execution_count": 16,
      "outputs": [
        {
          "output_type": "execute_result",
          "data": {
            "text/plain": [
              "<matplotlib.axes._subplots.AxesSubplot at 0x7f2557f97bd0>"
            ]
          },
          "metadata": {
            "tags": []
          },
          "execution_count": 16
        },
        {
          "output_type": "display_data",
          "data": {
            "image/png": "[encoded data removed]",
            "text/plain": [
              "<Figure size 432x288 with 1 Axes>"
            ]
          },
          "metadata": {
            "tags": [],
            "needs_background": "light"
          }
        }
      ]
    },
    {
      "cell_type": "markdown",
      "metadata": {
        "id": "e43KNOhDVhL2"
      },
      "source": [
        "### 3 Sex"
      ]
    },
    {
      "cell_type": "markdown",
      "metadata": {
        "id": "Q_vS2LeVcr01"
      },
      "source": [
        "#### 3.1 Unique values"
      ]
    },
    {
      "cell_type": "code",
      "metadata": {
        "id": "L6Q504e7Vf2N",
        "colab": {
          "base_uri": "https://localhost:8080/"
        },
        "outputId": "c10cd12c-2d90-44b6-b3f4-ea4f5341e69f"
      },
      "source": [
        "unique_sex = [val for val in df_train['sex'].unique()]\n",
        "unique_sex"
      ],
      "execution_count": 17,
      "outputs": [
        {
          "output_type": "execute_result",
          "data": {
            "text/plain": [
              "['male', 'female']"
            ]
          },
          "metadata": {
            "tags": []
          },
          "execution_count": 17
        }
      ]
    },
    {
      "cell_type": "markdown",
      "metadata": {
        "id": "A8RhdQDvVfqs"
      },
      "source": [
        "#### 3.2 Stacked survival stats"
      ]
    },
    {
      "cell_type": "code",
      "metadata": {
        "id": "WovSffgL9T_i",
        "colab": {
          "base_uri": "https://localhost:8080/",
          "height": 321
        },
        "outputId": "7d475404-4306-4696-c99a-645cce915ccd"
      },
      "source": [
        "df = pd.DataFrame(df_train.groupby(\"sex\")['survived'].value_counts())\n",
        "df = df.rename(columns={'survived':'count'}).pivot_table(index = 'sex', values = 'count', columns = 'survived').reset_index()\n",
        "df.plot(kind = \"bar\", stacked = True, x = 'sex')"
      ],
      "execution_count": 18,
      "outputs": [
        {
          "output_type": "execute_result",
          "data": {
            "text/plain": [
              "<matplotlib.axes._subplots.AxesSubplot at 0x7f2557f1cbd0>"
            ]
          },
          "metadata": {
            "tags": []
          },
          "execution_count": 18
        },
        {
          "output_type": "display_data",
          "data": {
            "image/png": "[encoded data removed]",
            "text/plain": [
              "<Figure size 432x288 with 1 Axes>"
            ]
          },
          "metadata": {
            "tags": [],
            "needs_background": "light"
          }
        }
      ]
    },
    {
      "cell_type": "markdown",
      "metadata": {
        "id": "quFUCczBVpP9"
      },
      "source": [
        "### 4 Embarked Town"
      ]
    },
    {
      "cell_type": "markdown",
      "metadata": {
        "id": "YmdQJnvocvsg"
      },
      "source": [
        "#### 4.1 Unique values"
      ]
    },
    {
      "cell_type": "code",
      "metadata": {
        "id": "mSQzhia5VpDT",
        "colab": {
          "base_uri": "https://localhost:8080/"
        },
        "outputId": "56c38735-2924-4b80-e337-6607865ca6e9"
      },
      "source": [
        "unique_embark_town = [val for val in df_train['embark_town'].unique()]\n",
        "unique_embark_town"
      ],
      "execution_count": 19,
      "outputs": [
        {
          "output_type": "execute_result",
          "data": {
            "text/plain": [
              "['Southampton', 'Cherbourg', 'Queenstown', 'unknown']"
            ]
          },
          "metadata": {
            "tags": []
          },
          "execution_count": 19
        }
      ]
    },
    {
      "cell_type": "markdown",
      "metadata": {
        "id": "Pz22_jpcVrl2"
      },
      "source": [
        "#### 4.2 Stacked survival stats"
      ]
    },
    {
      "cell_type": "code",
      "metadata": {
        "id": "EJsOrI8_DaPs",
        "colab": {
          "base_uri": "https://localhost:8080/",
          "height": 354
        },
        "outputId": "f3f90489-e63a-4078-8263-5c195620d238"
      },
      "source": [
        "df = pd.DataFrame(df_train.groupby(\"embark_town\")['survived'].value_counts())\n",
        "df = df.rename(columns={'survived':'count'}).pivot_table(index = 'embark_town', values = 'count', columns = 'survived').reset_index()\n",
        "df.plot(kind = \"bar\", stacked = True, x = 'embark_town')"
      ],
      "execution_count": 20,
      "outputs": [
        {
          "output_type": "execute_result",
          "data": {
            "text/plain": [
              "<matplotlib.axes._subplots.AxesSubplot at 0x7f2557eadf10>"
            ]
          },
          "metadata": {
            "tags": []
          },
          "execution_count": 20
        },
        {
          "output_type": "display_data",
          "data": {
            "image/png": "[encoded data removed]",
            "text/plain": [
              "<Figure size 432x288 with 1 Axes>"
            ]
          },
          "metadata": {
            "tags": [],
            "needs_background": "light"
          }
        }
      ]
    },
    {
      "cell_type": "markdown",
      "metadata": {
        "id": "hwEDu0m1WTIM"
      },
      "source": [
        "### 5 Deck "
      ]
    },
    {
      "cell_type": "code",
      "metadata": {
        "id": "Nv2Ab0BJWS-B"
      },
      "source": [
        ""
      ],
      "execution_count": 20,
      "outputs": []
    },
    {
      "cell_type": "markdown",
      "metadata": {
        "id": "XQqcb161WS00"
      },
      "source": [
        "#### 5.1 Stacked survival stats"
      ]
    },
    {
      "cell_type": "code",
      "metadata": {
        "id": "uMew1udXDsMZ",
        "colab": {
          "base_uri": "https://localhost:8080/",
          "height": 334
        },
        "outputId": "1619308c-d202-44c4-8f78-5618cd5f0257"
      },
      "source": [
        "df = pd.DataFrame(df_train.groupby(\"deck\")['survived'].value_counts())\n",
        "df = df.rename(columns={'survived':'count'}).pivot_table(index = 'deck', values = 'count', columns = 'survived').reset_index()\n",
        "df.plot(kind = \"bar\", stacked = True, x = 'deck')"
      ],
      "execution_count": 21,
      "outputs": [
        {
          "output_type": "execute_result",
          "data": {
            "text/plain": [
              "<matplotlib.axes._subplots.AxesSubplot at 0x7f2557e27690>"
            ]
          },
          "metadata": {
            "tags": []
          },
          "execution_count": 21
        },
        {
          "output_type": "display_data",
          "data": {
            "image/png": "[encoded data removed]",
            "text/plain": [
              "<Figure size 432x288 with 1 Axes>"
            ]
          },
          "metadata": {
            "tags": [],
            "needs_background": "light"
          }
        }
      ]
    },
    {
      "cell_type": "markdown",
      "metadata": {
        "id": "fVySGDBVWgjV"
      },
      "source": [
        "### 6 Parch"
      ]
    },
    {
      "cell_type": "markdown",
      "metadata": {
        "id": "WltVVd_UcMJD"
      },
      "source": [
        "#### 6.1 Unique values"
      ]
    },
    {
      "cell_type": "code",
      "metadata": {
        "id": "gjYBAXSmIj1h",
        "colab": {
          "base_uri": "https://localhost:8080/"
        },
        "outputId": "70ff4121-94b1-4964-89e6-7002c77a8504"
      },
      "source": [
        "unique_parch = [val for val in df_train['parch'].unique()]\n",
        "unique_parch"
      ],
      "execution_count": 22,
      "outputs": [
        {
          "output_type": "execute_result",
          "data": {
            "text/plain": [
              "[0, 1, 2, 5, 3, 4]"
            ]
          },
          "metadata": {
            "tags": []
          },
          "execution_count": 22
        }
      ]
    },
    {
      "cell_type": "code",
      "metadata": {
        "id": "XiwUXq3tXGQF"
      },
      "source": [
        ""
      ],
      "execution_count": 22,
      "outputs": []
    },
    {
      "cell_type": "markdown",
      "metadata": {
        "id": "DZPEONF3XF_c"
      },
      "source": [
        "#### 6.2 Stacked survival stats"
      ]
    },
    {
      "cell_type": "code",
      "metadata": {
        "id": "ZwXi1ePtIk9q",
        "colab": {
          "base_uri": "https://localhost:8080/",
          "height": 293
        },
        "outputId": "3c48f0eb-fd90-4c79-f092-262bd054a97f"
      },
      "source": [
        "df = pd.DataFrame(df_train.groupby(\"parch\")['survived'].value_counts())\n",
        "df = df.rename(columns={'survived':'count'}).pivot_table(index = 'parch', values = 'count', columns = 'survived').reset_index()\n",
        "df.plot(kind = \"bar\", stacked = True, x = 'parch')"
      ],
      "execution_count": 23,
      "outputs": [
        {
          "output_type": "execute_result",
          "data": {
            "text/plain": [
              "<matplotlib.axes._subplots.AxesSubplot at 0x7f2557e2c690>"
            ]
          },
          "metadata": {
            "tags": []
          },
          "execution_count": 23
        },
        {
          "output_type": "display_data",
          "data": {
            "image/png": "[encoded data removed]",
            "text/plain": [
              "<Figure size 432x288 with 1 Axes>"
            ]
          },
          "metadata": {
            "tags": [],
            "needs_background": "light"
          }
        }
      ]
    },
    {
      "cell_type": "markdown",
      "metadata": {
        "id": "6-p8CknBZnwy"
      },
      "source": [
        "### 7 Fare"
      ]
    },
    {
      "cell_type": "code",
      "metadata": {
        "id": "7M_J-nxoZoLz"
      },
      "source": [
        ""
      ],
      "execution_count": 23,
      "outputs": []
    },
    {
      "cell_type": "markdown",
      "metadata": {
        "id": "y3XVLYFCZnfq"
      },
      "source": [
        "#### 7.1 Stacked survival status"
      ]
    },
    {
      "cell_type": "code",
      "metadata": {
        "id": "NxrOoxxgD7Rr",
        "colab": {
          "base_uri": "https://localhost:8080/",
          "height": 295
        },
        "outputId": "a9a84a5e-d40f-42b7-95d0-07e52af2e319"
      },
      "source": [
        "df = pd.DataFrame(df_train.groupby(\"survived\")['fare'].mean())\n",
        "df = df.rename(columns={'fare':'mean'}).pivot_table(values = 'mean', columns = 'survived').reset_index(drop = True)\n",
        "df.plot(kind = \"bar\", stacked = False, title = 'Fare distribution')"
      ],
      "execution_count": 24,
      "outputs": [
        {
          "output_type": "execute_result",
          "data": {
            "text/plain": [
              "<matplotlib.axes._subplots.AxesSubplot at 0x7f2557cf48d0>"
            ]
          },
          "metadata": {
            "tags": []
          },
          "execution_count": 24
        },
        {
          "output_type": "display_data",
          "data": {
            "image/png": "[encoded data removed]",
            "text/plain": [
              "<Figure size 432x288 with 1 Axes>"
            ]
          },
          "metadata": {
            "tags": [],
            "needs_background": "light"
          }
        }
      ]
    },
    {
      "cell_type": "markdown",
      "metadata": {
        "id": "Z0SPjmEFaqtx"
      },
      "source": [
        "### 8 Age"
      ]
    },
    {
      "cell_type": "markdown",
      "metadata": {
        "id": "gIURhlNr8j49"
      },
      "source": [
        "#### 8.1 Distribution "
      ]
    },
    {
      "cell_type": "code",
      "metadata": {
        "id": "e0K_goQVaqkC",
        "colab": {
          "base_uri": "https://localhost:8080/",
          "height": 282
        },
        "outputId": "9134f566-a5ba-4e3f-d88c-205443154bf8"
      },
      "source": [
        "df_train['age'].plot(kind = 'hist')"
      ],
      "execution_count": 25,
      "outputs": [
        {
          "output_type": "execute_result",
          "data": {
            "text/plain": [
              "<matplotlib.axes._subplots.AxesSubplot at 0x7f2557c47ad0>"
            ]
          },
          "metadata": {
            "tags": []
          },
          "execution_count": 25
        },
        {
          "output_type": "display_data",
          "data": {
            "image/png": "[encoded data removed]",
            "text/plain": [
              "<Figure size 432x288 with 1 Axes>"
            ]
          },
          "metadata": {
            "tags": [],
            "needs_background": "light"
          }
        }
      ]
    },
    {
      "cell_type": "markdown",
      "metadata": {
        "id": "0a9AgqR-aqaT"
      },
      "source": [
        "#### 8.2 Stacked survival stats"
      ]
    },
    {
      "cell_type": "code",
      "metadata": {
        "id": "_NRF9a8jFEhT",
        "colab": {
          "base_uri": "https://localhost:8080/",
          "height": 279
        },
        "outputId": "7374fc86-235e-428d-b5c3-d1162c8942ad"
      },
      "source": [
        "df = pd.DataFrame(df_train.groupby(\"survived\")['age'].median())\n",
        "df = df.rename(columns={'age':'median'}).pivot_table(values = 'median', columns = 'survived').reset_index(drop = True)\n",
        "df.plot(kind = \"bar\", stacked = False)"
      ],
      "execution_count": 26,
      "outputs": [
        {
          "output_type": "execute_result",
          "data": {
            "text/plain": [
              "<matplotlib.axes._subplots.AxesSubplot at 0x7f2557bf8e50>"
            ]
          },
          "metadata": {
            "tags": []
          },
          "execution_count": 26
        },
        {
          "output_type": "display_data",
          "data": {
            "image/png": "[encoded data removed]",
            "text/plain": [
              "<Figure size 432x288 with 1 Axes>"
            ]
          },
          "metadata": {
            "tags": [],
            "needs_background": "light"
          }
        }
      ]
    },
    {
      "cell_type": "markdown",
      "metadata": {
        "id": "8yzBBt0KBkys"
      },
      "source": [
        "# Building model"
      ]
    },
    {
      "cell_type": "markdown",
      "metadata": {
        "id": "1RmNT6jkrr7p"
      },
      "source": [
        "## Preprocessing "
      ]
    },
    {
      "cell_type": "code",
      "metadata": {
        "id": "QMYZPgT2IVaR"
      },
      "source": [
        "_cols = df_train.columns\n",
        "_label = y_train.name\n",
        "_unused = ['deck']\n",
        "df_train.drop(_unused, axis = 1, inplace=True)\n",
        " \n",
        "num_cols = df_train.select_dtypes(['int64','int32']).columns ## To convert int to float \n",
        "cat_cols = df_train.select_dtypes(['object']).columns ## To encode categorical data to numeric"
      ],
      "execution_count": 27,
      "outputs": []
    },
    {
      "cell_type": "code",
      "metadata": {
        "id": "QyOkFoGlxnUb",
        "colab": {
          "base_uri": "https://localhost:8080/"
        },
        "outputId": "954f4328-01e4-4a1c-fb2a-2b9ee73cc1a4"
      },
      "source": [
        "list(cat_cols)+[_label]"
      ],
      "execution_count": 28,
      "outputs": [
        {
          "output_type": "execute_result",
          "data": {
            "text/plain": [
              "['sex', 'class', 'embark_town', 'alone', 'survived']"
            ]
          },
          "metadata": {
            "tags": []
          },
          "execution_count": 28
        }
      ]
    },
    {
      "cell_type": "code",
      "metadata": {
        "id": "ewIQ3EEFtkF2"
      },
      "source": [
        "_cat_types = {\n",
        "    'sex': pd.api.types.CategoricalDtype(categories=unique_sex),\n",
        "    'class': pd.api.types.CategoricalDtype(categories=unique_class),\n",
        "    'embark_town': pd.api.types.CategoricalDtype(categories=unique_embark_town),\n",
        "    'alone': pd.api.types.CategoricalDtype(categories=unique_alone),\n",
        "    'survived': pd.api.types.CategoricalDtype(categories=unique_survived)\n",
        "}"
      ],
      "execution_count": 29,
      "outputs": []
    },
    {
      "cell_type": "code",
      "metadata": {
        "id": "wYUMc_P6zy0N"
      },
      "source": [
        "df_train[cat_cols] = df_train[cat_cols].apply(lambda x: x.astype(_cat_types[x.name]))\n",
        "df_train[cat_cols] = df_train[cat_cols].apply(lambda x: x.cat.codes)"
      ],
      "execution_count": 30,
      "outputs": []
    },
    {
      "cell_type": "code",
      "metadata": {
        "id": "GpewfqIzFm8R",
        "colab": {
          "base_uri": "https://localhost:8080/"
        },
        "outputId": "41581aa1-4999-4536-884c-a398fb0976a2"
      },
      "source": [
        "df_train['sex'].astype(_cat_types[df_train['sex'].name]).cat.codes"
      ],
      "execution_count": 31,
      "outputs": [
        {
          "output_type": "execute_result",
          "data": {
            "text/plain": [
              "0     -1\n",
              "1     -1\n",
              "2     -1\n",
              "3     -1\n",
              "4     -1\n",
              "      ..\n",
              "622   -1\n",
              "623   -1\n",
              "624   -1\n",
              "625   -1\n",
              "626   -1\n",
              "Length: 627, dtype: int8"
            ]
          },
          "metadata": {
            "tags": []
          },
          "execution_count": 31
        }
      ]
    },
    {
      "cell_type": "markdown",
      "metadata": {
        "id": "FuaHOkj74zLf"
      },
      "source": [
        "## Standardizing data"
      ]
    },
    {
      "cell_type": "code",
      "metadata": {
        "id": "Js0j_5pe43if",
        "colab": {
          "base_uri": "https://localhost:8080/"
        },
        "outputId": "b8c88551-c7eb-4d33-f0b5-df608fd7ff3d"
      },
      "source": [
        "[x for x in map(str, df_train.dtypes)]"
      ],
      "execution_count": 32,
      "outputs": [
        {
          "output_type": "execute_result",
          "data": {
            "text/plain": [
              "['int64',\n",
              " 'int8',\n",
              " 'float64',\n",
              " 'int64',\n",
              " 'int64',\n",
              " 'float64',\n",
              " 'int8',\n",
              " 'int8',\n",
              " 'int8']"
            ]
          },
          "metadata": {
            "tags": []
          },
          "execution_count": 32
        }
      ]
    },
    {
      "cell_type": "code",
      "metadata": {
        "id": "gMtaHkDI43cf",
        "colab": {
          "base_uri": "https://localhost:8080/"
        },
        "outputId": "99a351a5-364e-4f48-d48f-ffd0eaa3010a"
      },
      "source": [
        "df_train.dtypes.index"
      ],
      "execution_count": 33,
      "outputs": [
        {
          "output_type": "execute_result",
          "data": {
            "text/plain": [
              "Index(['survived', 'sex', 'age', 'n_siblings_spouses', 'parch', 'fare',\n",
              "       'class', 'embark_town', 'alone'],\n",
              "      dtype='object')"
            ]
          },
          "metadata": {
            "tags": []
          },
          "execution_count": 33
        }
      ]
    },
    {
      "cell_type": "code",
      "metadata": {
        "id": "ariN4W_w4o-b"
      },
      "source": [
        "dtypes = list(zip(df_train.dtypes.index, map(str, df_train.dtypes)))"
      ],
      "execution_count": 34,
      "outputs": []
    },
    {
      "cell_type": "code",
      "metadata": {
        "id": "b3RkDanYNDSE"
      },
      "source": [
        "def standardize(dataset):\n",
        "  dtypes = list(zip(dataset.dtypes.index, map(str, dataset.dtypes)))\n",
        "  for column, dtype in dtypes:\n",
        "    if dtype == 'float32':\n",
        "        dataset[column] -= dataset[column].mean()\n",
        "        dataset[column] /= dataset[column].std()\n",
        "  return dataset"
      ],
      "execution_count": 35,
      "outputs": []
    },
    {
      "cell_type": "markdown",
      "metadata": {
        "id": "-WXa85JeKbT2"
      },
      "source": [
        "## Input function "
      ]
    },
    {
      "cell_type": "code",
      "metadata": {
        "id": "8PspB6JO5ggr"
      },
      "source": [
        "def input_fn(features, labels, shuffle = True, num_epochs = 10, batch_size = 32):\n",
        "    dataset = tf.data.Dataset.from_tensor_slices(inputs)\n",
        "\n",
        "    if shuffle:\n",
        "        dataset = dataset.shuffle(buffer_size=len(features))\n",
        "    dataset = dataset.repeat(num_epochs)\n",
        "    dataset = dataset.batch(batch_size)\n",
        "    return dataset"
      ],
      "execution_count": 36,
      "outputs": []
    },
    {
      "cell_type": "markdown",
      "metadata": {
        "id": "aaUdO1l6gadv"
      },
      "source": [
        "## Helper class"
      ]
    },
    {
      "cell_type": "code",
      "metadata": {
        "id": "EbLKb3yGg6Ol"
      },
      "source": [
        "class PreProcessHelper():\n",
        "  def __init__(self):\n",
        "    pass\n",
        "\n",
        "  def create_categorical_type(self, dataframe, dtypes):\n",
        "    unique_values = []\n",
        "    _CATEGORICAL_TYPES = {}\n",
        "    for column, dtype in dtypes:\n",
        "        if dtype == 'object':\n",
        "            unique_values = [x for x in dataframe[column].unique()]\n",
        "            _CATEGORICAL_TYPES[column] = pd.api.types.CategoricalDtype(categories=unique_values)\n",
        "    return _CATEGORICAL_TYPES\n",
        "\n",
        "  def removeUnused(self, dataframe, unused):\n",
        "    if(unused):\n",
        "      dataframe.drop(unused, axis = 1, inplace=True)\n",
        "    return dataframe\n",
        "\n",
        "  def preprocess(self, dataframe, _CATEGORICAL_TYPES, model_type):\n",
        "    # Convert integer valued (numeric) columns to floating point\n",
        "    num_cols = dataframe.select_dtypes(['int64']).columns\n",
        "    dataframe[num_cols] = dataframe[num_cols].astype('float32')\n",
        "\n",
        "    # Convert categorical columns to numeric\n",
        "    cat_cols = dataframe.select_dtypes(['object']).columns\n",
        "    dataframe[cat_cols] = dataframe[cat_cols].apply(lambda x: x.astype(_CATEGORICAL_TYPES[x.name]))\n",
        "\n",
        "    if(model_type == 'neural'):\n",
        "      dataframe[cat_cols] = dataframe[cat_cols].apply(lambda x: x.cat.codes)\n",
        "\n",
        "    return dataframe\n",
        "\n",
        "  def standardize_data(self, dataframe, dtypes, response, standardize):\n",
        "    if(standardize):\n",
        "      dataframe_x = dataframe.drop(response, axis = 1)\n",
        "      dataframe_y = dataframe[response]\n",
        "      for column, dtype in dtypes:\n",
        "          if dtype == 'float32':\n",
        "              dataframe_x[column] -= dataframe_x[column].mean()\n",
        "              dataframe_x[column] /= dataframe_x[column].std()\n",
        "      dataframe = pd.concat([dataframe_x, dataframe_y], axis = 1)\n",
        "    return dataframe\n",
        "  \n",
        "  def split_data(self, dataframe, response):\n",
        "    train, eval = dataframe.xs('train'), dataframe.xs('eval')\n",
        "    train_x, train_y = train.drop(response, axis = 1), train[response]\n",
        "    eval_x, eval_y = eval.drop(response, axis = 1), eval[response]\n",
        "    return train_x, train_y, eval_x, eval_y\n",
        "    \n",
        "  def get_feature_columns(self, train_x, _CATEGORICAL_TYPES):\n",
        "    feature_column = []\n",
        "    num_cols = list(train_x.select_dtypes(['float32']).columns)\n",
        "    for key,value in _CATEGORICAL_TYPES.items():\n",
        "      unique = train_x[key].unique()\n",
        "      feature_column.append(tf.feature_column.categorical_column_with_vocabulary_list(key, unique))\n",
        "    for col in num_cols:\n",
        "      feature_column.append(tf.feature_column.numeric_column(col, dtype=tf.dtypes.float32))\n",
        "    return feature_column"
      ],
      "execution_count": 37,
      "outputs": []
    },
    {
      "cell_type": "markdown",
      "metadata": {
        "id": "ONw91_k1tUjZ"
      },
      "source": [
        "## Linear Classifier model class"
      ]
    },
    {
      "cell_type": "code",
      "metadata": {
        "id": "UVlE_-gj9k78"
      },
      "source": [
        "df_train = deepcopy(df_train_bak)"
      ],
      "execution_count": 38,
      "outputs": []
    },
    {
      "cell_type": "code",
      "metadata": {
        "id": "QpO07gAhNN4f"
      },
      "source": [
        "class TitanicSurvival_Estimator(PreProcessHelper):\n",
        "  def __init__(self, df_train, df_eval, response, unused = [], standardize = False, model_type = 'estimator'):\n",
        "    self.df_train = deepcopy(df_train)\n",
        "    self.df_eval = deepcopy(df_eval)\n",
        "    self.unused = unused \n",
        "    self.response = response\n",
        "    self.standardize = standardize\n",
        "    self.model_type = model_type\n",
        "\n",
        "    self.dataframe = pd.concat([self.df_train, self.df_eval], keys=['train', 'eval'])\n",
        "    # Remove unused columns\n",
        "    self.dataframe = self.removeUnused(self.dataframe, self.unused)\n",
        "\n",
        "    self.dtypes = list(zip(self.dataframe.dtypes.index, map(str, self.dataframe.dtypes)))\n",
        "\n",
        "\n",
        "    self._CATEGORICAL_TYPES = self.create_categorical_type(self.dataframe, self.dtypes)\n",
        "\n",
        "    self.dataframe = self.preprocess(self.dataframe, self._CATEGORICAL_TYPES, self.model_type)\n",
        "    self.dataframe = self.standardize_data(self.dataframe, self.dtypes, self.response, self.standardize)\n",
        "\n",
        "\n",
        "    ## Train eval split on input-response\n",
        "    self.train_x, self.train_y, self.eval_x, self.eval_y = self.split_data(self.dataframe, self.response)\n",
        "\n",
        "    self.feature_column = self.get_feature_columns(self.train_x, self._CATEGORICAL_TYPES)\n",
        "  \n",
        "  def make_input_fn(self, features, labels, shuffle = True, num_epochs = 10, batch_size = 32):\n",
        "    def input_fn():\n",
        "      dataset = tf.data.Dataset.from_tensor_slices((dict(features),labels))\n",
        "      if shuffle:\n",
        "          dataset = dataset.shuffle(buffer_size=len(features))\n",
        "      dataset = dataset.repeat(num_epochs)\n",
        "      dataset = dataset.batch(batch_size)\n",
        "      return dataset\n",
        "    return input_fn\n",
        "\n",
        "  def train_model(self, train_x = None, train_y = None):\n",
        "    if(train_x == None):\n",
        "      train_x = deepcopy(self.train_x)\n",
        "    if(train_y == None):\n",
        "      train_y = deepcopy(self.train_y)\n",
        "    ## Train input function\n",
        "    train_input_fn = self.make_input_fn(train_x, train_y)\n",
        "    \n",
        "    self.lreg = tf.estimator.LinearClassifier(self.feature_column, n_classes=2)\n",
        "    self.lreg.train(train_input_fn)\n",
        "    clear_output()\n",
        "    return(self.lreg)\n",
        "\n",
        "  def evaluate_model(self, eval_x = None, eval_y = None, lreg = None):\n",
        "    if(eval_x == None):\n",
        "      eval_x = deepcopy(self.eval_x)\n",
        "    if(eval_y == None):\n",
        "      eval_y = deepcopy(self.eval_y)\n",
        "    if(lreg == None):\n",
        "      lreg = deepcopy(self.lreg)\n",
        "    eval_input_fn = self.make_input_fn(eval_x, eval_y, num_epochs=1, shuffle=False)\n",
        "    res = lreg.evaluate(eval_input_fn)\n",
        "    clear_output()\n",
        "    return res"
      ],
      "execution_count": 39,
      "outputs": []
    },
    {
      "cell_type": "markdown",
      "metadata": {
        "id": "CJmiCd5PDCG8"
      },
      "source": [
        "# Model training and evaluation"
      ]
    },
    {
      "cell_type": "code",
      "metadata": {
        "id": "Cv3T_smLc0D_"
      },
      "source": [
        "modelClass = TitanicSurvival_Estimator(df_train=df_train, df_eval=df_eval, response='survived', unused='deck')"
      ],
      "execution_count": 40,
      "outputs": []
    },
    {
      "cell_type": "code",
      "metadata": {
        "id": "bDwOpNp6pzZm"
      },
      "source": [
        "model = modelClass.train_model()"
      ],
      "execution_count": 41,
      "outputs": []
    },
    {
      "cell_type": "code",
      "metadata": {
        "id": "C0hvkYdNydfN",
        "colab": {
          "base_uri": "https://localhost:8080/"
        },
        "outputId": "b995e0e4-54ee-44ca-c701-9235819d7e06"
      },
      "source": [
        "modelClass.evaluate_model()"
      ],
      "execution_count": 42,
      "outputs": [
        {
          "output_type": "execute_result",
          "data": {
            "text/plain": [
              "{'accuracy': 0.7651515,\n",
              " 'accuracy_baseline': 0.625,\n",
              " 'auc': 0.8142639,\n",
              " 'auc_precision_recall': 0.78807926,\n",
              " 'average_loss': 0.4992237,\n",
              " 'global_step': 196,\n",
              " 'label/mean': 0.375,\n",
              " 'loss': 0.48517534,\n",
              " 'precision': 0.7032967,\n",
              " 'prediction/mean': 0.3935935,\n",
              " 'recall': 0.64646465}"
            ]
          },
          "metadata": {
            "tags": []
          },
          "execution_count": 42
        }
      ]
    }
  ]
}