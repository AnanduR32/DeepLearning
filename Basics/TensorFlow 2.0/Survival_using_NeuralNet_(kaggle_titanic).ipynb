{
  "nbformat": 4,
  "nbformat_minor": 0,
  "metadata": {
    "colab": {
      "name": "Survival using NeuralNet (kaggle/titanic)",
      "provenance": [],
      "collapsed_sections": []
    },
    "kernelspec": {
      "name": "python3",
      "display_name": "Python 3"
    },
    "language_info": {
      "name": "python"
    }
  },
  "cells": [
    {
      "cell_type": "code",
      "metadata": {
        "id": "ii0c-T42CAvB"
      },
      "source": [
        "!pip install -q kaggle --upgrade"
      ],
      "execution_count": 1,
      "outputs": []
    },
    {
      "cell_type": "code",
      "metadata": {
        "id": "bvPC2z5TCJzD"
      },
      "source": [
        "%tensorflow_version 2.x\n",
        "import tensorflow.compat.v2.feature_column as fc\n",
        "import tensorflow.compat.v1.saved_model as saved_model\n",
        "import tensorflow as tf\n",
        "\n",
        "from sklearn.preprocessing import OneHotEncoder\n",
        "\n",
        "from __future__ import absolute_import, division, print_function, unicode_literals\n",
        "from IPython.display import clear_output\n",
        "from six.moves import urllib\n",
        "from copy import deepcopy\n",
        "\n",
        "import pandas as pd\n",
        "import numpy as np\n",
        "import matplotlib.pyplot as plt\n",
        "%matplotlib inline"
      ],
      "execution_count": 2,
      "outputs": []
    },
    {
      "cell_type": "code",
      "metadata": {
        "colab": {
          "base_uri": "https://localhost:8080/"
        },
        "id": "ONf8PYa_CL5R",
        "outputId": "7cca4479-e87a-4a41-ba8f-03220663e5c8"
      },
      "source": [
        "tf.random.set_seed(197)\n",
        "print(tf.__version__)"
      ],
      "execution_count": 3,
      "outputs": [
        {
          "output_type": "stream",
          "text": [
            "2.5.0\n"
          ],
          "name": "stdout"
        }
      ]
    },
    {
      "cell_type": "markdown",
      "metadata": {
        "id": "kG9j4sMMCUeG"
      },
      "source": [
        "# Loading data"
      ]
    },
    {
      "cell_type": "code",
      "metadata": {
        "id": "ZRe4VLEjrlwQ"
      },
      "source": [
        "import json, io, os\n",
        "from google.colab import files\n",
        "# if(not uploaded[\"kaggle.json\"].decode(\"utf-8\")):\n",
        "if(not os.path.isfile(\"kaggle.json\")):\n",
        "  uploaded = files.upload()\n",
        "clear_output()"
      ],
      "execution_count": 4,
      "outputs": []
    },
    {
      "cell_type": "code",
      "metadata": {
        "colab": {
          "base_uri": "https://localhost:8080/"
        },
        "id": "eCG_wqEw6xHr",
        "outputId": "573c0c30-0822-4813-eaac-c18af4068cad"
      },
      "source": [
        "%%bash\n",
        "if test -f \"~/.kaggle/kaggle.json\"; then\n",
        "    echo \"kaggle.json exists.\"\n",
        "else\n",
        "    echo \"kaggle.json does not exists\"\n",
        "    mkdir -p ~/.kaggle/\n",
        "    cp kaggle.json ~/.kaggle/kaggle.json\n",
        "    chmod 600 ~/.kaggle/kaggle.json\n",
        "    echo \"Successfully placed in directory\"\n",
        "fi\n"
      ],
      "execution_count": 5,
      "outputs": [
        {
          "output_type": "stream",
          "text": [
            "kaggle.json does not exists\n",
            "Successfully placed in directory\n"
          ],
          "name": "stdout"
        }
      ]
    },
    {
      "cell_type": "code",
      "metadata": {
        "colab": {
          "base_uri": "https://localhost:8080/"
        },
        "id": "O3g0ye2Y-K1V",
        "outputId": "b71a0616-9dea-4f5e-c7af-8055b0fd6efa"
      },
      "source": [
        "%%bash\n",
        "if [ \"$(ls -A data)\" ]; then\n",
        "    echo \"kaggle competitions data already exists\"\n",
        "else \n",
        "    echo \"kaggle competitions data does not exists\"\n",
        "    kaggle competitions download -cq titanic\n",
        "    mkdir -p data/\n",
        "    mv *.csv data/\n",
        "    echo \"Successfully placed in directory\"\n",
        "fi\n",
        "echo\n",
        "echo \"Data: \"\n",
        "ls data"
      ],
      "execution_count": 6,
      "outputs": [
        {
          "output_type": "stream",
          "text": [
            "kaggle competitions data already exists\n",
            "\n",
            "Data: \n",
            "gender_submission.csv\n",
            "test.csv\n",
            "train.csv\n"
          ],
          "name": "stdout"
        }
      ]
    },
    {
      "cell_type": "code",
      "metadata": {
        "colab": {
          "base_uri": "https://localhost:8080/",
          "height": 203
        },
        "id": "ll3JuAr4Kdi9",
        "outputId": "e9755621-4a96-4735-dc6d-c623647f06b4"
      },
      "source": [
        "train_df = pd.read_csv('data/train.csv')\n",
        "test_df = pd.read_csv('data/test.csv')\n",
        "\n",
        "train_df.head()"
      ],
      "execution_count": 7,
      "outputs": [
        {
          "output_type": "execute_result",
          "data": {
            "text/html": [
              "<div>\n",
              "<style scoped>\n",
              "    .dataframe tbody tr th:only-of-type {\n",
              "        vertical-align: middle;\n",
              "    }\n",
              "\n",
              "    .dataframe tbody tr th {\n",
              "        vertical-align: top;\n",
              "    }\n",
              "\n",
              "    .dataframe thead th {\n",
              "        text-align: right;\n",
              "    }\n",
              "</style>\n",
              "<table border=\"1\" class=\"dataframe\">\n",
              "  <thead>\n",
              "    <tr style=\"text-align: right;\">\n",
              "      <th></th>\n",
              "      <th>PassengerId</th>\n",
              "      <th>Survived</th>\n",
              "      <th>Pclass</th>\n",
              "      <th>Name</th>\n",
              "      <th>Sex</th>\n",
              "      <th>Age</th>\n",
              "      <th>SibSp</th>\n",
              "      <th>Parch</th>\n",
              "      <th>Ticket</th>\n",
              "      <th>Fare</th>\n",
              "      <th>Cabin</th>\n",
              "      <th>Embarked</th>\n",
              "    </tr>\n",
              "  </thead>\n",
              "  <tbody>\n",
              "    <tr>\n",
              "      <th>0</th>\n",
              "      <td>1</td>\n",
              "      <td>0</td>\n",
              "      <td>3</td>\n",
              "      <td>Braund, Mr. Owen Harris</td>\n",
              "      <td>male</td>\n",
              "      <td>22.0</td>\n",
              "      <td>1</td>\n",
              "      <td>0</td>\n",
              "      <td>A/5 21171</td>\n",
              "      <td>7.2500</td>\n",
              "      <td>NaN</td>\n",
              "      <td>S</td>\n",
              "    </tr>\n",
              "    <tr>\n",
              "      <th>1</th>\n",
              "      <td>2</td>\n",
              "      <td>1</td>\n",
              "      <td>1</td>\n",
              "      <td>Cumings, Mrs. John Bradley (Florence Briggs Th...</td>\n",
              "      <td>female</td>\n",
              "      <td>38.0</td>\n",
              "      <td>1</td>\n",
              "      <td>0</td>\n",
              "      <td>PC 17599</td>\n",
              "      <td>71.2833</td>\n",
              "      <td>C85</td>\n",
              "      <td>C</td>\n",
              "    </tr>\n",
              "    <tr>\n",
              "      <th>2</th>\n",
              "      <td>3</td>\n",
              "      <td>1</td>\n",
              "      <td>3</td>\n",
              "      <td>Heikkinen, Miss. Laina</td>\n",
              "      <td>female</td>\n",
              "      <td>26.0</td>\n",
              "      <td>0</td>\n",
              "      <td>0</td>\n",
              "      <td>STON/O2. 3101282</td>\n",
              "      <td>7.9250</td>\n",
              "      <td>NaN</td>\n",
              "      <td>S</td>\n",
              "    </tr>\n",
              "    <tr>\n",
              "      <th>3</th>\n",
              "      <td>4</td>\n",
              "      <td>1</td>\n",
              "      <td>1</td>\n",
              "      <td>Futrelle, Mrs. Jacques Heath (Lily May Peel)</td>\n",
              "      <td>female</td>\n",
              "      <td>35.0</td>\n",
              "      <td>1</td>\n",
              "      <td>0</td>\n",
              "      <td>113803</td>\n",
              "      <td>53.1000</td>\n",
              "      <td>C123</td>\n",
              "      <td>S</td>\n",
              "    </tr>\n",
              "    <tr>\n",
              "      <th>4</th>\n",
              "      <td>5</td>\n",
              "      <td>0</td>\n",
              "      <td>3</td>\n",
              "      <td>Allen, Mr. William Henry</td>\n",
              "      <td>male</td>\n",
              "      <td>35.0</td>\n",
              "      <td>0</td>\n",
              "      <td>0</td>\n",
              "      <td>373450</td>\n",
              "      <td>8.0500</td>\n",
              "      <td>NaN</td>\n",
              "      <td>S</td>\n",
              "    </tr>\n",
              "  </tbody>\n",
              "</table>\n",
              "</div>"
            ],
            "text/plain": [
              "   PassengerId  Survived  Pclass  ...     Fare Cabin  Embarked\n",
              "0            1         0       3  ...   7.2500   NaN         S\n",
              "1            2         1       1  ...  71.2833   C85         C\n",
              "2            3         1       3  ...   7.9250   NaN         S\n",
              "3            4         1       1  ...  53.1000  C123         S\n",
              "4            5         0       3  ...   8.0500   NaN         S\n",
              "\n",
              "[5 rows x 12 columns]"
            ]
          },
          "metadata": {
            "tags": []
          },
          "execution_count": 7
        }
      ]
    },
    {
      "cell_type": "markdown",
      "metadata": {
        "id": "SNY1hnSDh6Nc"
      },
      "source": [
        "# Data Analysis\n",
        "\n",
        "**Linear analysis**: For linearly correlated datapoints in $\\mathit{R^{n}}$ space"
      ]
    },
    {
      "cell_type": "code",
      "metadata": {
        "id": "nENEz0ruCutf"
      },
      "source": [
        ""
      ],
      "execution_count": 7,
      "outputs": []
    },
    {
      "cell_type": "markdown",
      "metadata": {
        "id": "8yzBBt0KBkys"
      },
      "source": [
        "# Building model"
      ]
    },
    {
      "cell_type": "markdown",
      "metadata": {
        "id": "aaUdO1l6gadv"
      },
      "source": [
        "## Helper class"
      ]
    },
    {
      "cell_type": "code",
      "metadata": {
        "id": "EbLKb3yGg6Ol"
      },
      "source": [
        "class PreProcessHelper():\n",
        "  def __init__(self):\n",
        "    pass\n",
        "\n",
        "  def create_categorical_type(self, dataframe, dtypes):\n",
        "    unique_values = []\n",
        "    _CATEGORICAL_TYPES = {}\n",
        "    for column, dtype in dtypes:\n",
        "        if dtype == 'object':\n",
        "            unique_values = [x for x in dataframe[column].unique()]\n",
        "            _CATEGORICAL_TYPES[column] = pd.api.types.CategoricalDtype(categories=unique_values)\n",
        "    return _CATEGORICAL_TYPES\n",
        "\n",
        "  def removeUnused(self, dataframe, unused):\n",
        "    if(unused):\n",
        "      dataframe.drop(unused, axis = 1, inplace=True)\n",
        "    return dataframe\n",
        "\n",
        "  def preprocess(self, dataframe, _CATEGORICAL_TYPES, model_type):\n",
        "    # Convert integer valued (numeric) columns to floating point\n",
        "    num_cols = dataframe.select_dtypes(['int64']).columns\n",
        "    dataframe[num_cols] = dataframe[num_cols].astype('float32')\n",
        "\n",
        "    # Convert categorical columns to numeric\n",
        "    cat_cols = dataframe.select_dtypes(['object']).columns\n",
        "    dataframe[cat_cols] = dataframe[cat_cols].apply(lambda x: x.astype(_CATEGORICAL_TYPES[x.name]))\n",
        "\n",
        "    if(model_type == 'neural'):\n",
        "      dataframe[cat_cols] = dataframe[cat_cols].apply(lambda x: x.cat.codes)\n",
        "\n",
        "    return dataframe\n",
        "\n",
        "  def standardize_data(self, dataframe, dtypes, response, standardize):\n",
        "    if(standardize):\n",
        "      dataframe_x = dataframe.drop(response, axis = 1)\n",
        "      dataframe_y = dataframe[response]\n",
        "      for column, dtype in dtypes:\n",
        "          if dtype == 'float32':\n",
        "              dataframe_x[column] -= dataframe_x[column].mean()\n",
        "              dataframe_x[column] /= dataframe_x[column].std()\n",
        "      dataframe = pd.concat([dataframe_x, dataframe_y], axis = 1)\n",
        "    return dataframe\n",
        "  \n",
        "  def split_data(self, dataframe, response):\n",
        "    train, eval = dataframe.xs('train'), dataframe.xs('eval')\n",
        "    train_x, train_y = train.drop(response, axis = 1), train[response]\n",
        "    eval_x, eval_y = eval.drop(response, axis = 1), eval[response]\n",
        "    return train_x, train_y, eval_x, eval_y\n",
        "    \n",
        "  def get_feature_columns(self, train_x, _CATEGORICAL_TYPES):\n",
        "    feature_column = []\n",
        "    num_cols = list(train_x.select_dtypes(['float32']).columns)\n",
        "    for key,value in _CATEGORICAL_TYPES.items():\n",
        "      unique = train_x[key].unique()\n",
        "      feature_column.append(tf.feature_column.categorical_column_with_vocabulary_list(key, unique))\n",
        "    for col in num_cols:\n",
        "      feature_column.append(tf.feature_column.numeric_column(col, dtype=tf.dtypes.float32))\n",
        "    return feature_column"
      ],
      "execution_count": 8,
      "outputs": []
    },
    {
      "cell_type": "markdown",
      "metadata": {
        "id": "aw_VURJt-dcw"
      },
      "source": [
        "## Model class"
      ]
    },
    {
      "cell_type": "code",
      "metadata": {
        "id": "btsqHqKJCnFG"
      },
      "source": [
        "class SurvivalClassifier_NN(PreProcessHelper):\n",
        "  def __init__(self, df_train, df_eval, response, unused = [], standardize = True, model_type = 'neural'):\n",
        "    print(\"Neural-Net Survival Classifier\")\n",
        "    self.df_train = deepcopy(df_train)\n",
        "    self.df_eval = deepcopy(df_eval)\n",
        "    self.unused = unused \n",
        "    self.response = response\n",
        "    self.standardize = standardize\n",
        "    self.model_type = model_type\n",
        "\n",
        "    self.dataframe = pd.concat([self.df_train, self.df_eval], keys=['train', 'eval'])\n",
        "    # Remove unused columns\n",
        "    self.dataframe = self.removeUnused(self.dataframe, self.unused)\n",
        "\n",
        "    self.dtypes = list(zip(self.dataframe.dtypes.index, map(str, self.dataframe.dtypes)))\n",
        "\n",
        "    self._CATEGORICAL_TYPES = self.create_categorical_type(self.dataframe, self.dtypes)\n",
        "    \n",
        "    self.dataframe = self.preprocess(self.dataframe, self._CATEGORICAL_TYPES, self.model_type)\n",
        "    self.dataframe = self.standardize_data(self.dataframe, self.dtypes, self.response, self.standardize)\n",
        "\n",
        "    self.train_x, self.train_y, self.eval_x, self.eval_y = self.split_data(self.dataframe, self.response)\n",
        "\n",
        "\n",
        "    \n",
        "    \n",
        "\n",
        "\n"
      ],
      "execution_count": 9,
      "outputs": []
    },
    {
      "cell_type": "code",
      "metadata": {
        "id": "b1Ru2vRJC8Cb"
      },
      "source": [
        "# modelClass = SurvivalClassifier_NN(df_train=train_df, df_eval=test_df, response='Survived')"
      ],
      "execution_count": 10,
      "outputs": []
    },
    {
      "cell_type": "code",
      "metadata": {
        "id": "-vxXqE4izfpd"
      },
      "source": [
        "# train_df.dtypes"
      ],
      "execution_count": 11,
      "outputs": []
    }
  ]
}